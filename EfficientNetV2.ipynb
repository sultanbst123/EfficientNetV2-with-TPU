{
  "nbformat": 4,
  "nbformat_minor": 0,
  "metadata": {
    "colab": {
      "name": "EfficientNetV2.ipynb",
      "provenance": [],
      "collapsed_sections": [
        "wCQXnL0uotuB",
        "wYPRerrgakLK",
        "Pwq0Fn2T7oTu",
        "syj03xpT-wXt",
        "V-bXhxfp-wkK",
        "h3hM2Apm-wuY",
        "ISi12kts-w20",
        "YlJE6LQD-w-C",
        "Cg8-CTbO_Eas"
      ],
      "authorship_tag": "ABX9TyN5kmaZ/pMMylJ4fdahjVHa",
      "include_colab_link": true
    },
    "kernelspec": {
      "name": "python3",
      "display_name": "Python 3"
    },
    "language_info": {
      "name": "python"
    },
    "accelerator": "TPU"
  },
  "cells": [
    {
      "cell_type": "markdown",
      "metadata": {
        "id": "view-in-github",
        "colab_type": "text"
      },
      "source": [
        "<a href=\"https://colab.research.google.com/github/sultanbst123/EfficientNetV2-with-TPU/blob/main/EfficientNetV2.ipynb\" target=\"_parent\"><img src=\"https://colab.research.google.com/assets/colab-badge.svg\" alt=\"Open In Colab\"/></a>"
      ]
    },
    {
      "cell_type": "markdown",
      "source": [
        "# Image classification with EfficientNetV2"
      ],
      "metadata": {
        "id": "xvNtqakZVSPQ"
      }
    },
    {
      "cell_type": "markdown",
      "metadata": {
        "id": "wCQXnL0uotuB"
      },
      "source": [
        "## Library & File"
      ]
    },
    {
      "cell_type": "code",
      "source": [
        "pip install tensorflow-addons"
      ],
      "metadata": {
        "colab": {
          "base_uri": "https://localhost:8080/"
        },
        "id": "5FIXOVUtybYG",
        "outputId": "a6f7cafc-f3e2-4368-a9e9-9c0c7c11b374"
      },
      "execution_count": null,
      "outputs": [
        {
          "output_type": "stream",
          "name": "stdout",
          "text": [
            "Collecting tensorflow-addons\n",
            "  Downloading tensorflow_addons-0.15.0-cp37-cp37m-manylinux_2_12_x86_64.manylinux2010_x86_64.whl (1.1 MB)\n",
            "\u001b[?25l\r\u001b[K     |▎                               | 10 kB 17.9 MB/s eta 0:00:01\r\u001b[K     |▋                               | 20 kB 24.5 MB/s eta 0:00:01\r\u001b[K     |▉                               | 30 kB 19.0 MB/s eta 0:00:01\r\u001b[K     |█▏                              | 40 kB 15.9 MB/s eta 0:00:01\r\u001b[K     |█▌                              | 51 kB 5.7 MB/s eta 0:00:01\r\u001b[K     |█▊                              | 61 kB 6.1 MB/s eta 0:00:01\r\u001b[K     |██                              | 71 kB 5.6 MB/s eta 0:00:01\r\u001b[K     |██▍                             | 81 kB 6.3 MB/s eta 0:00:01\r\u001b[K     |██▋                             | 92 kB 6.6 MB/s eta 0:00:01\r\u001b[K     |███                             | 102 kB 5.4 MB/s eta 0:00:01\r\u001b[K     |███▎                            | 112 kB 5.4 MB/s eta 0:00:01\r\u001b[K     |███▌                            | 122 kB 5.4 MB/s eta 0:00:01\r\u001b[K     |███▉                            | 133 kB 5.4 MB/s eta 0:00:01\r\u001b[K     |████▏                           | 143 kB 5.4 MB/s eta 0:00:01\r\u001b[K     |████▍                           | 153 kB 5.4 MB/s eta 0:00:01\r\u001b[K     |████▊                           | 163 kB 5.4 MB/s eta 0:00:01\r\u001b[K     |█████                           | 174 kB 5.4 MB/s eta 0:00:01\r\u001b[K     |█████▎                          | 184 kB 5.4 MB/s eta 0:00:01\r\u001b[K     |█████▋                          | 194 kB 5.4 MB/s eta 0:00:01\r\u001b[K     |█████▉                          | 204 kB 5.4 MB/s eta 0:00:01\r\u001b[K     |██████▏                         | 215 kB 5.4 MB/s eta 0:00:01\r\u001b[K     |██████▌                         | 225 kB 5.4 MB/s eta 0:00:01\r\u001b[K     |██████▊                         | 235 kB 5.4 MB/s eta 0:00:01\r\u001b[K     |███████                         | 245 kB 5.4 MB/s eta 0:00:01\r\u001b[K     |███████▍                        | 256 kB 5.4 MB/s eta 0:00:01\r\u001b[K     |███████▋                        | 266 kB 5.4 MB/s eta 0:00:01\r\u001b[K     |████████                        | 276 kB 5.4 MB/s eta 0:00:01\r\u001b[K     |████████▎                       | 286 kB 5.4 MB/s eta 0:00:01\r\u001b[K     |████████▌                       | 296 kB 5.4 MB/s eta 0:00:01\r\u001b[K     |████████▉                       | 307 kB 5.4 MB/s eta 0:00:01\r\u001b[K     |█████████                       | 317 kB 5.4 MB/s eta 0:00:01\r\u001b[K     |█████████▍                      | 327 kB 5.4 MB/s eta 0:00:01\r\u001b[K     |█████████▊                      | 337 kB 5.4 MB/s eta 0:00:01\r\u001b[K     |██████████                      | 348 kB 5.4 MB/s eta 0:00:01\r\u001b[K     |██████████▎                     | 358 kB 5.4 MB/s eta 0:00:01\r\u001b[K     |██████████▋                     | 368 kB 5.4 MB/s eta 0:00:01\r\u001b[K     |██████████▉                     | 378 kB 5.4 MB/s eta 0:00:01\r\u001b[K     |███████████▏                    | 389 kB 5.4 MB/s eta 0:00:01\r\u001b[K     |███████████▌                    | 399 kB 5.4 MB/s eta 0:00:01\r\u001b[K     |███████████▊                    | 409 kB 5.4 MB/s eta 0:00:01\r\u001b[K     |████████████                    | 419 kB 5.4 MB/s eta 0:00:01\r\u001b[K     |████████████▍                   | 430 kB 5.4 MB/s eta 0:00:01\r\u001b[K     |████████████▋                   | 440 kB 5.4 MB/s eta 0:00:01\r\u001b[K     |█████████████                   | 450 kB 5.4 MB/s eta 0:00:01\r\u001b[K     |█████████████▎                  | 460 kB 5.4 MB/s eta 0:00:01\r\u001b[K     |█████████████▌                  | 471 kB 5.4 MB/s eta 0:00:01\r\u001b[K     |█████████████▉                  | 481 kB 5.4 MB/s eta 0:00:01\r\u001b[K     |██████████████                  | 491 kB 5.4 MB/s eta 0:00:01\r\u001b[K     |██████████████▍                 | 501 kB 5.4 MB/s eta 0:00:01\r\u001b[K     |██████████████▊                 | 512 kB 5.4 MB/s eta 0:00:01\r\u001b[K     |███████████████                 | 522 kB 5.4 MB/s eta 0:00:01\r\u001b[K     |███████████████▎                | 532 kB 5.4 MB/s eta 0:00:01\r\u001b[K     |███████████████▋                | 542 kB 5.4 MB/s eta 0:00:01\r\u001b[K     |███████████████▉                | 552 kB 5.4 MB/s eta 0:00:01\r\u001b[K     |████████████████▏               | 563 kB 5.4 MB/s eta 0:00:01\r\u001b[K     |████████████████▌               | 573 kB 5.4 MB/s eta 0:00:01\r\u001b[K     |████████████████▊               | 583 kB 5.4 MB/s eta 0:00:01\r\u001b[K     |█████████████████               | 593 kB 5.4 MB/s eta 0:00:01\r\u001b[K     |█████████████████▍              | 604 kB 5.4 MB/s eta 0:00:01\r\u001b[K     |█████████████████▋              | 614 kB 5.4 MB/s eta 0:00:01\r\u001b[K     |██████████████████              | 624 kB 5.4 MB/s eta 0:00:01\r\u001b[K     |██████████████████▏             | 634 kB 5.4 MB/s eta 0:00:01\r\u001b[K     |██████████████████▌             | 645 kB 5.4 MB/s eta 0:00:01\r\u001b[K     |██████████████████▉             | 655 kB 5.4 MB/s eta 0:00:01\r\u001b[K     |███████████████████             | 665 kB 5.4 MB/s eta 0:00:01\r\u001b[K     |███████████████████▍            | 675 kB 5.4 MB/s eta 0:00:01\r\u001b[K     |███████████████████▊            | 686 kB 5.4 MB/s eta 0:00:01\r\u001b[K     |████████████████████            | 696 kB 5.4 MB/s eta 0:00:01\r\u001b[K     |████████████████████▎           | 706 kB 5.4 MB/s eta 0:00:01\r\u001b[K     |████████████████████▋           | 716 kB 5.4 MB/s eta 0:00:01\r\u001b[K     |████████████████████▉           | 727 kB 5.4 MB/s eta 0:00:01\r\u001b[K     |█████████████████████▏          | 737 kB 5.4 MB/s eta 0:00:01\r\u001b[K     |█████████████████████▌          | 747 kB 5.4 MB/s eta 0:00:01\r\u001b[K     |█████████████████████▊          | 757 kB 5.4 MB/s eta 0:00:01\r\u001b[K     |██████████████████████          | 768 kB 5.4 MB/s eta 0:00:01\r\u001b[K     |██████████████████████▎         | 778 kB 5.4 MB/s eta 0:00:01\r\u001b[K     |██████████████████████▋         | 788 kB 5.4 MB/s eta 0:00:01\r\u001b[K     |███████████████████████         | 798 kB 5.4 MB/s eta 0:00:01\r\u001b[K     |███████████████████████▏        | 808 kB 5.4 MB/s eta 0:00:01\r\u001b[K     |███████████████████████▌        | 819 kB 5.4 MB/s eta 0:00:01\r\u001b[K     |███████████████████████▉        | 829 kB 5.4 MB/s eta 0:00:01\r\u001b[K     |████████████████████████        | 839 kB 5.4 MB/s eta 0:00:01\r\u001b[K     |████████████████████████▍       | 849 kB 5.4 MB/s eta 0:00:01\r\u001b[K     |████████████████████████▊       | 860 kB 5.4 MB/s eta 0:00:01\r\u001b[K     |█████████████████████████       | 870 kB 5.4 MB/s eta 0:00:01\r\u001b[K     |█████████████████████████▎      | 880 kB 5.4 MB/s eta 0:00:01\r\u001b[K     |█████████████████████████▋      | 890 kB 5.4 MB/s eta 0:00:01\r\u001b[K     |█████████████████████████▉      | 901 kB 5.4 MB/s eta 0:00:01\r\u001b[K     |██████████████████████████▏     | 911 kB 5.4 MB/s eta 0:00:01\r\u001b[K     |██████████████████████████▌     | 921 kB 5.4 MB/s eta 0:00:01\r\u001b[K     |██████████████████████████▊     | 931 kB 5.4 MB/s eta 0:00:01\r\u001b[K     |███████████████████████████     | 942 kB 5.4 MB/s eta 0:00:01\r\u001b[K     |███████████████████████████▎    | 952 kB 5.4 MB/s eta 0:00:01\r\u001b[K     |███████████████████████████▋    | 962 kB 5.4 MB/s eta 0:00:01\r\u001b[K     |████████████████████████████    | 972 kB 5.4 MB/s eta 0:00:01\r\u001b[K     |████████████████████████████▏   | 983 kB 5.4 MB/s eta 0:00:01\r\u001b[K     |████████████████████████████▌   | 993 kB 5.4 MB/s eta 0:00:01\r\u001b[K     |████████████████████████████▉   | 1.0 MB 5.4 MB/s eta 0:00:01\r\u001b[K     |█████████████████████████████   | 1.0 MB 5.4 MB/s eta 0:00:01\r\u001b[K     |█████████████████████████████▍  | 1.0 MB 5.4 MB/s eta 0:00:01\r\u001b[K     |█████████████████████████████▊  | 1.0 MB 5.4 MB/s eta 0:00:01\r\u001b[K     |██████████████████████████████  | 1.0 MB 5.4 MB/s eta 0:00:01\r\u001b[K     |██████████████████████████████▎ | 1.1 MB 5.4 MB/s eta 0:00:01\r\u001b[K     |██████████████████████████████▋ | 1.1 MB 5.4 MB/s eta 0:00:01\r\u001b[K     |██████████████████████████████▉ | 1.1 MB 5.4 MB/s eta 0:00:01\r\u001b[K     |███████████████████████████████▏| 1.1 MB 5.4 MB/s eta 0:00:01\r\u001b[K     |███████████████████████████████▍| 1.1 MB 5.4 MB/s eta 0:00:01\r\u001b[K     |███████████████████████████████▊| 1.1 MB 5.4 MB/s eta 0:00:01\r\u001b[K     |████████████████████████████████| 1.1 MB 5.4 MB/s \n",
            "\u001b[?25hRequirement already satisfied: typeguard>=2.7 in /usr/local/lib/python3.7/dist-packages (from tensorflow-addons) (2.7.1)\n",
            "Installing collected packages: tensorflow-addons\n",
            "Successfully installed tensorflow-addons-0.15.0\n"
          ]
        }
      ]
    },
    {
      "cell_type": "code",
      "metadata": {
        "id": "-VfHu8YMnViv"
      },
      "source": [
        "import pandas as pd\n",
        "import numpy as np\n",
        "import matplotlib.pyplot as plt\n",
        "import random \n",
        "import os\n",
        "\n",
        "#DL library\n",
        "import tensorflow as tf\n",
        "from tensorflow.keras import layers\n",
        "import tensorflow_addons as tfa\n",
        "import tensorflow_hub as hub \n",
        "\n",
        "from sklearn.model_selection import train_test_split\n",
        "from sklearn.metrics import accuracy_score, classification_report, confusion_matrix\n",
        "\n",
        "import warnings\n",
        "warnings.filterwarnings(\"ignore\")"
      ],
      "execution_count": null,
      "outputs": []
    },
    {
      "cell_type": "code",
      "metadata": {
        "id": "TvNnR7XSi6DI"
      },
      "source": [
        "def set_seed(seed=42):\n",
        "    random.seed(seed)\n",
        "    os.environ[\"PYTHONHASHSEED\"] = str(seed)\n",
        "    np.random.seed(seed)\n",
        "    tf.random.set_seed(seed)\n",
        "\n",
        "set_seed()"
      ],
      "execution_count": null,
      "outputs": []
    },
    {
      "cell_type": "code",
      "metadata": {
        "id": "mIfonhbvnpFu",
        "colab": {
          "base_uri": "https://localhost:8080/"
        },
        "outputId": "b1d6eb91-8dbd-4d41-9fdb-d1c51dd8dbc3"
      },
      "source": [
        "\n",
        "# load cifar10\n",
        "\n",
        "(x_train,y_train),(x_test, y_test)= tf.keras.datasets.cifar10.load_data()"
      ],
      "execution_count": null,
      "outputs": [
        {
          "output_type": "stream",
          "name": "stdout",
          "text": [
            "Downloading data from https://www.cs.toronto.edu/~kriz/cifar-10-python.tar.gz\n",
            "170500096/170498071 [==============================] - 2s 0us/step\n",
            "170508288/170498071 [==============================] - 2s 0us/step\n"
          ]
        }
      ]
    },
    {
      "cell_type": "code",
      "metadata": {
        "colab": {
          "base_uri": "https://localhost:8080/"
        },
        "id": "c2oYAUfsQ6wQ",
        "outputId": "a1ce9858-3292-4ee9-e2df-b688e6e27dc5"
      },
      "source": [
        "x_train.shape, x_test.shape"
      ],
      "execution_count": null,
      "outputs": [
        {
          "output_type": "execute_result",
          "data": {
            "text/plain": [
              "((50000, 32, 32, 3), (10000, 32, 32, 3))"
            ]
          },
          "metadata": {},
          "execution_count": 5
        }
      ]
    },
    {
      "cell_type": "code",
      "metadata": {
        "id": "I1MGpD0hvOng"
      },
      "source": [
        "class_names = ['airplane', 'automobile', 'bird', 'cat', 'deer',\n",
        "               'dog', 'frog', 'horse', 'ship', 'truck']"
      ],
      "execution_count": null,
      "outputs": []
    },
    {
      "cell_type": "code",
      "metadata": {
        "colab": {
          "base_uri": "https://localhost:8080/"
        },
        "id": "8MwPhtXXuWEy",
        "outputId": "8248fe58-c1f5-4ae3-f0b7-8f322c22f9c2"
      },
      "source": [
        "plt.figure(figsize=(10, 10))\n",
        " \n",
        "for i in range(5):\n",
        "    plt.subplot(1,5,i+1)\n",
        "    plt.grid(False)\n",
        "    plt.axis(False)\n",
        "    plt.imshow(x_train[i])\n",
        "    plt.title(class_names[y_train[i][0]])\n",
        "   \n",
        "plt.show()"
      ],
      "execution_count": null,
      "outputs": [
        {
          "output_type": "display_data",
          "data": {
            "image/png": "[encoded data removed]",
            "text/plain": [
              "<Figure size 720x720 with 5 Axes>"
            ]
          },
          "metadata": {
            "needs_background": "light"
          }
        }
      ]
    },
    {
      "cell_type": "code",
      "metadata": {
        "id": "ym8byTUdK058"
      },
      "source": [
        "#x_train = x_train.astype(\"float32\") / 255.0\n",
        "y_train = tf.keras.utils.to_categorical(y_train, 10)\n",
        "\n",
        "#x_test = x_test.astype(\"float32\") / 255.0\n",
        "#y_test = tf.keras.utils.to_categorical(y_test, 10)"
      ],
      "execution_count": null,
      "outputs": []
    },
    {
      "cell_type": "code",
      "source": [
        "\n",
        "#split 90:10\n",
        "\n",
        "x_train, x_val, y_train, y_val = train_test_split(x_train, y_train, test_size=.1, random_state=42)"
      ],
      "metadata": {
        "id": "q6ksEjBtnEfU"
      },
      "execution_count": null,
      "outputs": []
    },
    {
      "cell_type": "code",
      "metadata": {
        "colab": {
          "base_uri": "https://localhost:8080/"
        },
        "id": "SQ_fRGIVLTrY",
        "outputId": "5fe26652-d0fa-442b-9c19-bbe5f6c4e5b7"
      },
      "source": [
        "x_train.shape, x_val.shape, x_test.shape## cifar 10"
      ],
      "execution_count": null,
      "outputs": [
        {
          "output_type": "execute_result",
          "data": {
            "text/plain": [
              "((45000, 32, 32, 3), (5000, 32, 32, 3), (10000, 32, 32, 3))"
            ]
          },
          "metadata": {},
          "execution_count": 10
        }
      ]
    },
    {
      "cell_type": "markdown",
      "source": [
        "## Hyperparameters & TPU"
      ],
      "metadata": {
        "id": "Ekj6Iyd0a3yg"
      }
    },
    {
      "cell_type": "code",
      "source": [
        "pip install -U keras-efficientnet-v2"
      ],
      "metadata": {
        "id": "MPLTkHLUursI"
      },
      "execution_count": null,
      "outputs": []
    },
    {
      "cell_type": "code",
      "source": [
        "import keras_efficientnet_v2"
      ],
      "metadata": {
        "id": "Cqvt6m84uapn"
      },
      "execution_count": null,
      "outputs": []
    },
    {
      "cell_type": "code",
      "source": [
        "try: # <== detect TPU\n",
        "    tpu = tf.distribute.cluster_resolver.TPUClusterResolver()\n",
        "    print(\"Running on TPU \", tpu.cluster_spec().as_dict()[\"worker\"])\n",
        "    tf.config.experimental_connect_to_cluster(tpu)\n",
        "    tf.tpu.experimental.initialize_tpu_system(tpu)\n",
        "    strategy = tf.distribute.TPUStrategy(tpu)\n",
        "except ValueError: # <== detect GPU/CPU\n",
        "    print(\"Not connected to a TPU runtime. Using CPU/GPU strategy\")\n",
        "    strategy = tf.distribute.MirroredStrategy()"
      ],
      "metadata": {
        "id": "Y9j0ufAowkrz"
      },
      "execution_count": null,
      "outputs": []
    },
    {
      "cell_type": "code",
      "source": [
        "# buat dataset \n",
        "\n",
        "auto = tf.data.AUTOTUNE\n",
        "bc = 16 * strategy.num_replicas_in_sync\n",
        "\n",
        "train_ds = tf.data.Dataset.from_tensor_slices((x_train,y_train))\n",
        "train_ds = train_ds.shuffle(1000).batch(bc).prefetch(auto)\n",
        "\n",
        "val_ds = tf.data.Dataset.from_tensor_slices((x_val,y_val))\n",
        "val_ds = val_ds.batch(bc).prefetch(auto)"
      ],
      "metadata": {
        "id": "_l-60thVmxYh"
      },
      "execution_count": null,
      "outputs": []
    },
    {
      "cell_type": "code",
      "source": [
        "train_ds, val_ds"
      ],
      "metadata": {
        "colab": {
          "base_uri": "https://localhost:8080/"
        },
        "id": "Ywujk6oOoDbU",
        "outputId": "58770a7e-7045-468c-b85c-d2b0b00491ec"
      },
      "execution_count": null,
      "outputs": [
        {
          "output_type": "execute_result",
          "data": {
            "text/plain": [
              "(<PrefetchDataset shapes: ((None, 32, 32, 3), (None, 10)), types: (tf.uint8, tf.float32)>,\n",
              " <PrefetchDataset shapes: ((None, 32, 32, 3), (None, 10)), types: (tf.uint8, tf.float32)>)"
            ]
          },
          "metadata": {},
          "execution_count": 15
        }
      ]
    },
    {
      "cell_type": "code",
      "source": [
        "# Hyperparamters for fit \n",
        "\n",
        "EPOCHS = 25\n",
        "INIT_LR = 1e-4 \n",
        "MAX_LR = 5e-2\n",
        "Wd = 1e-5\n",
        "\n",
        "#define Callbacks and learning rate scheduler\n",
        "steps_per_epoch =  len(x_train) // bc\n",
        "\n",
        "clr = tfa.optimizers.Triangular2CyclicalLearningRate(\n",
        "    initial_learning_rate=INIT_LR,\n",
        "    maximal_learning_rate=MAX_LR,\n",
        "    step_size= 2 * steps_per_epoch\n",
        ")\n",
        "# early stop\n",
        "es = tf.keras.callbacks.EarlyStopping(monitor=\"val_loss\", patience=10, verbose=1, mode=\"min\", restore_best_weights=True)\n",
        "\n",
        "#define optimizers \n",
        "ADAM = tf.keras.optimizers.Adam(learning_rate=clr)\n",
        "SGD = tf.keras.optimizers.SGD(learning_rate=clr, momentum=0.9)\n",
        " \n",
        "ADABELIEF = tfa.optimizers.AdaBelief(learning_rate = clr, weight_decay = Wd)#recified == True default,  warmup 0.1\n",
        "ADAMW = tfa.optimizers.AdamW(learning_rate = clr, weight_decay = Wd)"
      ],
      "metadata": {
        "id": "R-ehUKVJa7KK"
      },
      "execution_count": null,
      "outputs": []
    },
    {
      "cell_type": "code",
      "source": [
        "step = np.arange(0, EPOCHS * steps_per_epoch)\n",
        "lr = clr(step)\n",
        "plt.plot(step, lr)\n",
        "plt.xlabel(\"Steps\")\n",
        "plt.ylabel(\"Learning Rate\")\n",
        "plt.title(\"Triangular2CyclicalLearningRate\", size=20)\n",
        "plt.show()"
      ],
      "metadata": {
        "colab": {
          "base_uri": "https://localhost:8080/",
          "height": 212
        },
        "id": "YTh6LpaabdLm",
        "outputId": "307678d7-af18-4706-86aa-f796eefd9e4f"
      },
      "execution_count": null,
      "outputs": [
        {
          "output_type": "display_data",
          "data": {
            "image/png": "[encoded data removed]",
            "text/plain": [
              "<Figure size 432x288 with 1 Axes>"
            ]
          },
          "metadata": {
            "needs_background": "light"
          }
        }
      ]
    },
    {
      "cell_type": "markdown",
      "source": [
        "## EfficientnetV2B0"
      ],
      "metadata": {
        "id": "wYPRerrgakLK"
      }
    },
    {
      "cell_type": "code",
      "source": [
        "data_augmentation = tf.keras.Sequential(\n",
        "    [\n",
        "        #layers.Rescaling(1 / 255.0), # [0, 1] \n",
        "        layers.Resizing(224, 224), # resize image \n",
        "        #layers.RandomCrop(IMAGE_SIZE, IMAGE_SIZE),\n",
        "        #layers.RandomFlip(\"horizontal\"),\n",
        "    ],\n",
        "    name=\"data_augmentation\",\n",
        ")"
      ],
      "metadata": {
        "id": "n0Qxf_ma1qMG"
      },
      "execution_count": null,
      "outputs": []
    },
    {
      "cell_type": "code",
      "source": [
        "with strategy.scope():\n",
        "\n",
        "    # /// get model ////\n",
        "    input = layers.Input(shape=(32, 32,3))\n",
        "\n",
        "    # resize image 32 to 224\n",
        "    x = data_augmentation(input)\n",
        "\n",
        "    # num_classes = 0 == include_top = False \n",
        "    # include preprocessing = True, will add rescale and normalization layers \n",
        "    Eff = keras_efficientnet_v2.EfficientNetV2B0(input_shape=(224,224,3),num_classes = 0,pretrained=\"imagenet\",include_preprocessing = True)(x)\n",
        "\n",
        "    # add fc      \n",
        "    x1 = layers.GlobalAveragePooling2D()(Eff)\n",
        "    x1 = layers.Dropout(0.1)(x1) \n",
        "    output = layers.Dense(10, activation=\"softmax\")(x1)\n",
        "\n",
        "    model = tf.keras.Model(inputs=input, outputs=output, name = \"EfficientNetV2B0\") \n",
        "   \n",
        "\n",
        "    # freeze EfficientNetV2B0\n",
        "    for layer in model.layers[2:3]:\n",
        "        layer.trainable = False\n",
        "\n",
        "    #define metrics\n",
        "    METRICS = [tf.keras.metrics.CategoricalAccuracy(name = \"accuracy\"),\n",
        "               tf.keras.metrics.TopKCategoricalAccuracy(5, name= \"top-5-accuracy\")]\n",
        "\n",
        "    #compile model \n",
        "    model.compile(optimizer = ADABELIEF, \n",
        "              loss = \"CategoricalCrossentropy\",\n",
        "              metrics = METRICS)\n",
        "\n",
        "model.summary()"
      ],
      "metadata": {
        "colab": {
          "base_uri": "https://localhost:8080/"
        },
        "id": "AzX01L6m1lmc",
        "outputId": "1c73b92c-acde-4d2a-d52e-aee020cf7f15"
      },
      "execution_count": null,
      "outputs": [
        {
          "output_type": "stream",
          "name": "stdout",
          "text": [
            ">>>> Load pretrained from: /root/.keras/models/efficientnetv2/efficientnetv2-b0-imagenet.h5\n",
            "Model: \"EfficientNetV2B0\"\n",
            "_________________________________________________________________\n",
            " Layer (type)                Output Shape              Param #   \n",
            "=================================================================\n",
            " input_5 (InputLayer)        [(None, 32, 32, 3)]       0         \n",
            "                                                                 \n",
            " data_augmentation (Sequenti  (None, 224, 224, 3)      0         \n",
            " al)                                                             \n",
            "                                                                 \n",
            " EfficientNetV2B0 (Functiona  (None, 7, 7, 1280)       5919312   \n",
            " l)                                                              \n",
            "                                                                 \n",
            " global_average_pooling2d_2   (None, 1280)             0         \n",
            " (GlobalAveragePooling2D)                                        \n",
            "                                                                 \n",
            " dropout_2 (Dropout)         (None, 1280)              0         \n",
            "                                                                 \n",
            " dense_2 (Dense)             (None, 10)                12810     \n",
            "                                                                 \n",
            "=================================================================\n",
            "Total params: 5,932,122\n",
            "Trainable params: 12,810\n",
            "Non-trainable params: 5,919,312\n",
            "_________________________________________________________________\n"
          ]
        }
      ]
    },
    {
      "cell_type": "code",
      "source": [
        "cp_path = f\"best_cp[0].hdf5\"\n",
        "cb_checkpt = tf.keras.callbacks.ModelCheckpoint(cp_path, monitor = 'val_loss', verbose = 0,\n",
        "                                 save_best_only = True,\n",
        "                                 save_weights_only = True,\n",
        "                                 mode = 'min')\n",
        "\n",
        "history = model.fit(train_ds, validation_data=val_ds, \n",
        "                    epochs=EPOCHS, callbacks = [cb_checkpt],verbose=1)\n",
        "\n",
        "model.load_weights(cp_path)"
      ],
      "metadata": {
        "colab": {
          "base_uri": "https://localhost:8080/"
        },
        "id": "ZfupUJlu2aCC",
        "outputId": "e1a9c16d-c346-4601-b18b-9f992754d89b"
      },
      "execution_count": null,
      "outputs": [
        {
          "output_type": "stream",
          "name": "stdout",
          "text": [
            "Epoch 1/25\n",
            "352/352 [==============================] - 127s 252ms/step - loss: 0.7164 - accuracy: 0.7660 - top-5-accuracy: 0.9540 - val_loss: 0.3378 - val_accuracy: 0.8834 - val_top-5-accuracy: 0.9950\n",
            "Epoch 2/25\n",
            "352/352 [==============================] - 13s 38ms/step - loss: 0.4620 - accuracy: 0.8607 - top-5-accuracy: 0.9946 - val_loss: 0.5895 - val_accuracy: 0.8464 - val_top-5-accuracy: 0.9922\n",
            "Epoch 3/25\n",
            "352/352 [==============================] - 14s 39ms/step - loss: 0.5307 - accuracy: 0.8677 - top-5-accuracy: 0.9951 - val_loss: 0.4244 - val_accuracy: 0.8890 - val_top-5-accuracy: 0.9960\n",
            "Epoch 4/25\n",
            "352/352 [==============================] - 16s 44ms/step - loss: 0.3414 - accuracy: 0.9000 - top-5-accuracy: 0.9977 - val_loss: 0.3343 - val_accuracy: 0.9040 - val_top-5-accuracy: 0.9976\n",
            "Epoch 5/25\n",
            "352/352 [==============================] - 14s 39ms/step - loss: 0.2777 - accuracy: 0.9115 - top-5-accuracy: 0.9984 - val_loss: 0.3670 - val_accuracy: 0.8938 - val_top-5-accuracy: 0.9966\n",
            "Epoch 6/25\n",
            "352/352 [==============================] - 14s 40ms/step - loss: 0.3786 - accuracy: 0.8915 - top-5-accuracy: 0.9970 - val_loss: 0.4756 - val_accuracy: 0.8806 - val_top-5-accuracy: 0.9944\n",
            "Epoch 7/25\n",
            "352/352 [==============================] - 14s 40ms/step - loss: 0.4360 - accuracy: 0.8849 - top-5-accuracy: 0.9972 - val_loss: 0.4103 - val_accuracy: 0.8976 - val_top-5-accuracy: 0.9958\n",
            "Epoch 8/25\n",
            "352/352 [==============================] - 15s 44ms/step - loss: 0.2972 - accuracy: 0.9099 - top-5-accuracy: 0.9985 - val_loss: 0.3464 - val_accuracy: 0.9042 - val_top-5-accuracy: 0.9968\n",
            "Epoch 9/25\n",
            "352/352 [==============================] - 15s 43ms/step - loss: 0.2585 - accuracy: 0.9161 - top-5-accuracy: 0.9988 - val_loss: 0.3505 - val_accuracy: 0.9050 - val_top-5-accuracy: 0.9964\n",
            "Epoch 10/25\n",
            "352/352 [==============================] - 14s 40ms/step - loss: 0.3067 - accuracy: 0.9044 - top-5-accuracy: 0.9984 - val_loss: 0.3876 - val_accuracy: 0.8970 - val_top-5-accuracy: 0.9968\n",
            "Epoch 11/25\n",
            "352/352 [==============================] - 14s 40ms/step - loss: 0.3131 - accuracy: 0.9041 - top-5-accuracy: 0.9981 - val_loss: 0.3556 - val_accuracy: 0.9016 - val_top-5-accuracy: 0.9970\n",
            "Epoch 12/25\n",
            "352/352 [==============================] - 16s 47ms/step - loss: 0.2525 - accuracy: 0.9178 - top-5-accuracy: 0.9990 - val_loss: 0.3341 - val_accuracy: 0.9044 - val_top-5-accuracy: 0.9972\n",
            "Epoch 13/25\n",
            "352/352 [==============================] - 14s 40ms/step - loss: 0.2279 - accuracy: 0.9226 - top-5-accuracy: 0.9990 - val_loss: 0.3489 - val_accuracy: 0.9028 - val_top-5-accuracy: 0.9970\n",
            "Epoch 14/25\n",
            "352/352 [==============================] - 14s 39ms/step - loss: 0.2533 - accuracy: 0.9167 - top-5-accuracy: 0.9988 - val_loss: 0.3589 - val_accuracy: 0.8992 - val_top-5-accuracy: 0.9972\n",
            "Epoch 15/25\n",
            "352/352 [==============================] - 14s 41ms/step - loss: 0.2590 - accuracy: 0.9138 - top-5-accuracy: 0.9988 - val_loss: 0.3383 - val_accuracy: 0.9028 - val_top-5-accuracy: 0.9972\n",
            "Epoch 16/25\n",
            "352/352 [==============================] - 17s 47ms/step - loss: 0.2252 - accuracy: 0.9241 - top-5-accuracy: 0.9992 - val_loss: 0.3237 - val_accuracy: 0.9066 - val_top-5-accuracy: 0.9976\n",
            "Epoch 17/25\n",
            "352/352 [==============================] - 14s 40ms/step - loss: 0.2116 - accuracy: 0.9256 - top-5-accuracy: 0.9993 - val_loss: 0.3243 - val_accuracy: 0.9072 - val_top-5-accuracy: 0.9976\n",
            "Epoch 18/25\n",
            "352/352 [==============================] - 14s 39ms/step - loss: 0.2231 - accuracy: 0.9225 - top-5-accuracy: 0.9992 - val_loss: 0.3317 - val_accuracy: 0.9034 - val_top-5-accuracy: 0.9970\n",
            "Epoch 19/25\n",
            "352/352 [==============================] - 13s 38ms/step - loss: 0.2262 - accuracy: 0.9218 - top-5-accuracy: 0.9989 - val_loss: 0.3272 - val_accuracy: 0.9046 - val_top-5-accuracy: 0.9970\n",
            "Epoch 20/25\n",
            "352/352 [==============================] - 15s 43ms/step - loss: 0.2147 - accuracy: 0.9261 - top-5-accuracy: 0.9992 - val_loss: 0.3180 - val_accuracy: 0.9058 - val_top-5-accuracy: 0.9978\n",
            "Epoch 21/25\n",
            "352/352 [==============================] - 15s 41ms/step - loss: 0.2065 - accuracy: 0.9279 - top-5-accuracy: 0.9994 - val_loss: 0.3222 - val_accuracy: 0.9046 - val_top-5-accuracy: 0.9970\n",
            "Epoch 22/25\n",
            "352/352 [==============================] - 14s 39ms/step - loss: 0.2167 - accuracy: 0.9247 - top-5-accuracy: 0.9993 - val_loss: 0.3228 - val_accuracy: 0.9036 - val_top-5-accuracy: 0.9972\n",
            "Epoch 23/25\n",
            "352/352 [==============================] - 13s 38ms/step - loss: 0.2160 - accuracy: 0.9237 - top-5-accuracy: 0.9992 - val_loss: 0.3182 - val_accuracy: 0.9064 - val_top-5-accuracy: 0.9972\n",
            "Epoch 24/25\n",
            "352/352 [==============================] - 16s 45ms/step - loss: 0.2073 - accuracy: 0.9262 - top-5-accuracy: 0.9992 - val_loss: 0.3149 - val_accuracy: 0.9066 - val_top-5-accuracy: 0.9976\n",
            "Epoch 25/25\n",
            "352/352 [==============================] - 14s 39ms/step - loss: 0.2020 - accuracy: 0.9296 - top-5-accuracy: 0.9994 - val_loss: 0.3151 - val_accuracy: 0.9082 - val_top-5-accuracy: 0.9974\n"
          ]
        }
      ]
    },
    {
      "cell_type": "code",
      "source": [
        "loss, accuracy, top_5_accuracy = model.evaluate(val_ds)\n",
        "print(f\"Val loss: {round(loss, 2)}\")\n",
        "print(f\"Val accuracy: {round(accuracy * 100, 2)}%\")\n",
        "print(f\"Val top 5 accuracy: {round(top_5_accuracy * 100, 2)}%\")"
      ],
      "metadata": {
        "colab": {
          "base_uri": "https://localhost:8080/"
        },
        "id": "S9GnMGpa6aIb",
        "outputId": "02a7b8af-f8cc-4f9a-cb24-af50ac736aee"
      },
      "execution_count": null,
      "outputs": [
        {
          "output_type": "stream",
          "name": "stdout",
          "text": [
            "40/40 [==============================] - 3s 32ms/step - loss: 0.3148 - accuracy: 0.9068 - top-5-accuracy: 0.9976\n",
            "Val loss: 0.31\n",
            "Val accuracy: 90.68%\n",
            "Val top 5 accuracy: 99.76%\n"
          ]
        }
      ]
    },
    {
      "cell_type": "code",
      "source": [
        "\n",
        "# coba di data test(unseen)\n",
        "\n",
        "y_true = y_test.flatten()\n",
        "\n",
        "y_predu = model.predict(x_test)"
      ],
      "metadata": {
        "id": "2ZWfTpAargOl"
      },
      "execution_count": null,
      "outputs": []
    },
    {
      "cell_type": "code",
      "source": [
        "# effv2 b0\n",
        "acc = accuracy_score(y_true, np.argmax(y_predu,axis=1))\n",
        "\n",
        "print(f\"Test accuracy: {round(acc * 100, 2)}%\")"
      ],
      "metadata": {
        "colab": {
          "base_uri": "https://localhost:8080/"
        },
        "id": "abLqlhOmuNuR",
        "outputId": "6843c65e-145a-47a6-d628-a9e763c423eb"
      },
      "execution_count": null,
      "outputs": [
        {
          "output_type": "stream",
          "name": "stdout",
          "text": [
            "Test accuracy: 89.86%\n"
          ]
        }
      ]
    },
    {
      "cell_type": "markdown",
      "source": [
        "##EfficientnetV2B1"
      ],
      "metadata": {
        "id": "Pwq0Fn2T7oTu"
      }
    },
    {
      "cell_type": "code",
      "source": [
        "data_augmentation = tf.keras.Sequential(\n",
        "    [\n",
        "        #layers.Rescaling(1 / 255.0), # [0, 1] \n",
        "        layers.Resizing(240, 240), # resize image \n",
        "        #layers.RandomCrop(IMAGE_SIZE, IMAGE_SIZE),\n",
        "        #layers.RandomFlip(\"horizontal\"),\n",
        "    ],\n",
        "    name=\"data_augmentation\",\n",
        ")"
      ],
      "metadata": {
        "id": "KZIomAjP5lNH"
      },
      "execution_count": null,
      "outputs": []
    },
    {
      "cell_type": "code",
      "source": [
        "with strategy.scope():\n",
        "\n",
        "    # /// get model ////\n",
        "    input = layers.Input(shape=(32, 32,3))\n",
        "\n",
        "    # resize image 32 to 240\n",
        "    x = data_augmentation(input)\n",
        "\n",
        "    # num_classes = 0 == include_top = False \n",
        "    # include preprocessing = True, will add rescale and normalization layers \n",
        "    Eff = keras_efficientnet_v2.EfficientNetV2B1(input_shape=(240,240,3),num_classes = 0,pretrained=\"imagenet\",include_preprocessing = True)(x)\n",
        "\n",
        "    # add fc      \n",
        "    x1 = layers.GlobalAveragePooling2D()(Eff)\n",
        "    x1 = layers.Dropout(0.1)(x1) \n",
        "    output = layers.Dense(10, activation=\"softmax\")(x1)\n",
        "\n",
        "    model = tf.keras.Model(inputs=input, outputs=output, name = \"EfficientNetV2B1\") \n",
        "   \n",
        "\n",
        "    # freeze EfficientNetV2B1\n",
        "    for layer in model.layers[2:3]:\n",
        "        layer.trainable = False\n",
        "\n",
        "    #define metrics\n",
        "    METRICS = [tf.keras.metrics.CategoricalAccuracy(name = \"accuracy\"),\n",
        "               tf.keras.metrics.TopKCategoricalAccuracy(5, name= \"top-5-accuracy\")]\n",
        "\n",
        "    #compile model \n",
        "    model.compile(optimizer = ADABELIEF, \n",
        "              loss = \"CategoricalCrossentropy\",\n",
        "              metrics = METRICS)\n",
        "\n",
        "model.summary()"
      ],
      "metadata": {
        "id": "ak6i3XAo6Gkj",
        "colab": {
          "base_uri": "https://localhost:8080/"
        },
        "outputId": "96b558ff-b45f-421c-d54d-8faac32de1fa"
      },
      "execution_count": null,
      "outputs": [
        {
          "output_type": "stream",
          "name": "stdout",
          "text": [
            "Downloading data from https://github.com/leondgarse/keras_efficientnet_v2/releases/download/effnetv2_pretrained/efficientnetv2-b1-imagenet.h5\n",
            "33775616/33773048 [==============================] - 0s 0us/step\n",
            "33783808/33773048 [==============================] - 0s 0us/step\n",
            ">>>> Load pretrained from: /root/.keras/models/efficientnetv2/efficientnetv2-b1-imagenet.h5\n",
            "Model: \"EfficientNetV2B1\"\n",
            "_________________________________________________________________\n",
            " Layer (type)                Output Shape              Param #   \n",
            "=================================================================\n",
            " input_7 (InputLayer)        [(None, 32, 32, 3)]       0         \n",
            "                                                                 \n",
            " data_augmentation (Sequenti  (None, 240, 240, 3)      0         \n",
            " al)                                                             \n",
            "                                                                 \n",
            " EfficientNetV2B1 (Functiona  (None, 8, 8, 1280)       6931124   \n",
            " l)                                                              \n",
            "                                                                 \n",
            " global_average_pooling2d_3   (None, 1280)             0         \n",
            " (GlobalAveragePooling2D)                                        \n",
            "                                                                 \n",
            " dropout_3 (Dropout)         (None, 1280)              0         \n",
            "                                                                 \n",
            " dense_3 (Dense)             (None, 10)                12810     \n",
            "                                                                 \n",
            "=================================================================\n",
            "Total params: 6,943,934\n",
            "Trainable params: 12,810\n",
            "Non-trainable params: 6,931,124\n",
            "_________________________________________________________________\n"
          ]
        }
      ]
    },
    {
      "cell_type": "code",
      "source": [
        "cp_path = f\"best_cp[1].hdf5\"\n",
        "cb_checkpt = tf.keras.callbacks.ModelCheckpoint(cp_path, monitor = 'val_loss', verbose = 0,\n",
        "                                 save_best_only = True,\n",
        "                                 save_weights_only = True,\n",
        "                                 mode = 'min')\n",
        "\n",
        "history = model.fit(train_ds, validation_data=val_ds, \n",
        "                    epochs=EPOCHS, callbacks = [cb_checkpt],verbose=1)\n",
        "\n",
        "model.load_weights(cp_path)"
      ],
      "metadata": {
        "id": "9MwdtuOW8FDw",
        "colab": {
          "base_uri": "https://localhost:8080/"
        },
        "outputId": "22d772a1-2818-499f-c54d-4d7c3db54951"
      },
      "execution_count": null,
      "outputs": [
        {
          "output_type": "stream",
          "name": "stdout",
          "text": [
            "Epoch 1/25\n",
            "352/352 [==============================] - 85s 159ms/step - loss: 0.4486 - accuracy: 0.8493 - top-5-accuracy: 0.9906 - val_loss: 0.3362 - val_accuracy: 0.8866 - val_top-5-accuracy: 0.9958\n",
            "Epoch 2/25\n",
            "352/352 [==============================] - 20s 56ms/step - loss: 0.3318 - accuracy: 0.8870 - top-5-accuracy: 0.9973 - val_loss: 0.3103 - val_accuracy: 0.8944 - val_top-5-accuracy: 0.9966\n",
            "Epoch 3/25\n",
            "352/352 [==============================] - 20s 57ms/step - loss: 0.3093 - accuracy: 0.8946 - top-5-accuracy: 0.9975 - val_loss: 0.3026 - val_accuracy: 0.8964 - val_top-5-accuracy: 0.9976\n",
            "Epoch 4/25\n",
            "352/352 [==============================] - 18s 51ms/step - loss: 0.3022 - accuracy: 0.8974 - top-5-accuracy: 0.9977 - val_loss: 0.3008 - val_accuracy: 0.8958 - val_top-5-accuracy: 0.9974\n",
            "Epoch 5/25\n",
            "352/352 [==============================] - 19s 55ms/step - loss: 0.2998 - accuracy: 0.8976 - top-5-accuracy: 0.9978 - val_loss: 0.2968 - val_accuracy: 0.8988 - val_top-5-accuracy: 0.9978\n",
            "Epoch 6/25\n",
            "352/352 [==============================] - 18s 52ms/step - loss: 0.2928 - accuracy: 0.9005 - top-5-accuracy: 0.9976 - val_loss: 0.2914 - val_accuracy: 0.8988 - val_top-5-accuracy: 0.9974\n",
            "Epoch 7/25\n",
            "352/352 [==============================] - 19s 53ms/step - loss: 0.2868 - accuracy: 0.9025 - top-5-accuracy: 0.9980 - val_loss: 0.2877 - val_accuracy: 0.9010 - val_top-5-accuracy: 0.9974\n",
            "Epoch 8/25\n",
            "352/352 [==============================] - 17s 49ms/step - loss: 0.2833 - accuracy: 0.9031 - top-5-accuracy: 0.9980 - val_loss: 0.2871 - val_accuracy: 0.9010 - val_top-5-accuracy: 0.9974\n",
            "Epoch 9/25\n",
            "352/352 [==============================] - 18s 50ms/step - loss: 0.2821 - accuracy: 0.9048 - top-5-accuracy: 0.9980 - val_loss: 0.2855 - val_accuracy: 0.9034 - val_top-5-accuracy: 0.9976\n",
            "Epoch 10/25\n",
            "352/352 [==============================] - 18s 51ms/step - loss: 0.2801 - accuracy: 0.9051 - top-5-accuracy: 0.9979 - val_loss: 0.2831 - val_accuracy: 0.9034 - val_top-5-accuracy: 0.9976\n",
            "Epoch 11/25\n",
            "352/352 [==============================] - 18s 51ms/step - loss: 0.2765 - accuracy: 0.9058 - top-5-accuracy: 0.9982 - val_loss: 0.2812 - val_accuracy: 0.9058 - val_top-5-accuracy: 0.9978\n",
            "Epoch 12/25\n",
            "352/352 [==============================] - 19s 53ms/step - loss: 0.2745 - accuracy: 0.9067 - top-5-accuracy: 0.9982 - val_loss: 0.2808 - val_accuracy: 0.9056 - val_top-5-accuracy: 0.9976\n",
            "Epoch 13/25\n",
            "352/352 [==============================] - 19s 53ms/step - loss: 0.2738 - accuracy: 0.9072 - top-5-accuracy: 0.9983 - val_loss: 0.2801 - val_accuracy: 0.9068 - val_top-5-accuracy: 0.9976\n",
            "Epoch 14/25\n",
            "352/352 [==============================] - 19s 54ms/step - loss: 0.2727 - accuracy: 0.9074 - top-5-accuracy: 0.9980 - val_loss: 0.2783 - val_accuracy: 0.9064 - val_top-5-accuracy: 0.9974\n",
            "Epoch 15/25\n",
            "352/352 [==============================] - 18s 51ms/step - loss: 0.2698 - accuracy: 0.9079 - top-5-accuracy: 0.9984 - val_loss: 0.2775 - val_accuracy: 0.9072 - val_top-5-accuracy: 0.9978\n",
            "Epoch 16/25\n",
            "352/352 [==============================] - 18s 52ms/step - loss: 0.2704 - accuracy: 0.9077 - top-5-accuracy: 0.9981 - val_loss: 0.2771 - val_accuracy: 0.9068 - val_top-5-accuracy: 0.9978\n",
            "Epoch 17/25\n",
            "352/352 [==============================] - 18s 51ms/step - loss: 0.2680 - accuracy: 0.9090 - top-5-accuracy: 0.9982 - val_loss: 0.2768 - val_accuracy: 0.9066 - val_top-5-accuracy: 0.9980\n",
            "Epoch 18/25\n",
            "352/352 [==============================] - 18s 52ms/step - loss: 0.2680 - accuracy: 0.9084 - top-5-accuracy: 0.9982 - val_loss: 0.2755 - val_accuracy: 0.9078 - val_top-5-accuracy: 0.9980\n",
            "Epoch 19/25\n",
            "352/352 [==============================] - 18s 51ms/step - loss: 0.2660 - accuracy: 0.9089 - top-5-accuracy: 0.9984 - val_loss: 0.2749 - val_accuracy: 0.9084 - val_top-5-accuracy: 0.9978\n",
            "Epoch 20/25\n",
            "352/352 [==============================] - 20s 58ms/step - loss: 0.2653 - accuracy: 0.9100 - top-5-accuracy: 0.9983 - val_loss: 0.2744 - val_accuracy: 0.9082 - val_top-5-accuracy: 0.9978\n",
            "Epoch 21/25\n",
            "352/352 [==============================] - 18s 51ms/step - loss: 0.2657 - accuracy: 0.9092 - top-5-accuracy: 0.9982 - val_loss: 0.2737 - val_accuracy: 0.9082 - val_top-5-accuracy: 0.9978\n",
            "Epoch 22/25\n",
            "352/352 [==============================] - 18s 52ms/step - loss: 0.2631 - accuracy: 0.9099 - top-5-accuracy: 0.9984 - val_loss: 0.2730 - val_accuracy: 0.9072 - val_top-5-accuracy: 0.9980\n",
            "Epoch 23/25\n",
            "352/352 [==============================] - 18s 51ms/step - loss: 0.2624 - accuracy: 0.9108 - top-5-accuracy: 0.9983 - val_loss: 0.2726 - val_accuracy: 0.9078 - val_top-5-accuracy: 0.9978\n",
            "Epoch 24/25\n",
            "352/352 [==============================] - 18s 52ms/step - loss: 0.2632 - accuracy: 0.9104 - top-5-accuracy: 0.9983 - val_loss: 0.2722 - val_accuracy: 0.9080 - val_top-5-accuracy: 0.9980\n",
            "Epoch 25/25\n",
            "352/352 [==============================] - 18s 51ms/step - loss: 0.2630 - accuracy: 0.9099 - top-5-accuracy: 0.9983 - val_loss: 0.2717 - val_accuracy: 0.9074 - val_top-5-accuracy: 0.9980\n"
          ]
        }
      ]
    },
    {
      "cell_type": "code",
      "source": [
        "loss, accuracy, top_5_accuracy = model.evaluate(val_ds)\n",
        "print(f\"Val loss: {round(loss, 2)}\")\n",
        "print(f\"Val  accuracy: {round(accuracy * 100, 2)}%\")\n",
        "print(f\"Val top 5 accuracy: {round(top_5_accuracy * 100, 2)}%\")"
      ],
      "metadata": {
        "id": "TIHfVk7d_sAR",
        "colab": {
          "base_uri": "https://localhost:8080/"
        },
        "outputId": "514e79d9-be61-4b38-bf3c-597ac7358938"
      },
      "execution_count": null,
      "outputs": [
        {
          "output_type": "stream",
          "name": "stdout",
          "text": [
            "40/40 [==============================] - 3s 37ms/step - loss: 0.2718 - accuracy: 0.9076 - top-5-accuracy: 0.9978\n",
            "Val loss: 0.27\n",
            "Val  accuracy: 90.76%\n",
            "Val top 5 accuracy: 99.78%\n"
          ]
        }
      ]
    },
    {
      "cell_type": "code",
      "source": [
        "# coba di data test(unseen)\n",
        "y_true = y_test.flatten()\n",
        "y_predu = model.predict(x_test)\n",
        "\n",
        "# effv2 b1\n",
        "acc = accuracy_score(y_true, np.argmax(y_predu,axis=1))\n",
        "\n",
        "print(f\"Test accuracy: {round(acc * 100, 2)}%\")"
      ],
      "metadata": {
        "colab": {
          "base_uri": "https://localhost:8080/"
        },
        "id": "gU6V4tb5vhoF",
        "outputId": "eb2c8590-80a0-4994-8d88-80a6dec0a35d"
      },
      "execution_count": null,
      "outputs": [
        {
          "output_type": "stream",
          "name": "stdout",
          "text": [
            "Test accuracy: 90.07%\n"
          ]
        }
      ]
    },
    {
      "cell_type": "markdown",
      "source": [
        "##EfficientNetV2B2"
      ],
      "metadata": {
        "id": "syj03xpT-wXt"
      }
    },
    {
      "cell_type": "code",
      "source": [
        "\n",
        "data_augmentation = tf.keras.Sequential(\n",
        "    [\n",
        "        #layers.Rescaling(1 / 255.0), # [0, 1] \n",
        "        layers.Resizing(260, 260), # resize image \n",
        "        #layers.RandomCrop(IMAGE_SIZE, IMAGE_SIZE),\n",
        "        #layers.RandomFlip(\"horizontal\"),\n",
        "    ],\n",
        "    name=\"data_augmentation\",\n",
        ")"
      ],
      "metadata": {
        "id": "dExe5Syu5pAX"
      },
      "execution_count": null,
      "outputs": []
    },
    {
      "cell_type": "code",
      "source": [
        "\n",
        "with strategy.scope():\n",
        "\n",
        "    # /// get model ////\n",
        "    input = layers.Input(shape=(32, 32,3))\n",
        "\n",
        "    # resize image 32 to 260\n",
        "    x = data_augmentation(input)\n",
        "\n",
        "    # num_classes = 0 == include_top = False \n",
        "    # include preprocessing = True, will add rescale and normalization layers \n",
        "    Eff = keras_efficientnet_v2.EfficientNetV2B2(input_shape=(260,260,3),num_classes = 0,pretrained=\"imagenet\",include_preprocessing = True)(x)\n",
        "\n",
        "    # add fc      \n",
        "    x1 = layers.GlobalAveragePooling2D()(Eff)\n",
        "    x1 = layers.Dropout(0.1)(x1) \n",
        "    output = layers.Dense(10, activation=\"softmax\")(x1)\n",
        "\n",
        "    model = tf.keras.Model(inputs=input, outputs=output, name = \"EfficientNetV2B2\") \n",
        "   \n",
        "\n",
        "    # freeze EfficientNetV2B2\n",
        "    for layer in model.layers[2:3]:\n",
        "        layer.trainable = False\n",
        "\n",
        "    #define metrics\n",
        "    METRICS = [tf.keras.metrics.CategoricalAccuracy(name = \"accuracy\"),\n",
        "               tf.keras.metrics.TopKCategoricalAccuracy(5, name= \"top-5-accuracy\")]\n",
        "\n",
        "    #compile model \n",
        "    model.compile(optimizer = ADABELIEF, \n",
        "              loss = \"CategoricalCrossentropy\",\n",
        "              metrics = METRICS)\n",
        "\n",
        "model.summary()"
      ],
      "metadata": {
        "id": "9otPN2mq6YMW",
        "colab": {
          "base_uri": "https://localhost:8080/"
        },
        "outputId": "4a010907-e431-4692-8102-884f3c743cac"
      },
      "execution_count": null,
      "outputs": [
        {
          "output_type": "stream",
          "name": "stdout",
          "text": [
            "Downloading data from https://github.com/leondgarse/keras_efficientnet_v2/releases/download/effnetv2_pretrained/efficientnetv2-b2-imagenet.h5\n",
            "41680896/41675584 [==============================] - 0s 0us/step\n",
            "41689088/41675584 [==============================] - 0s 0us/step\n",
            ">>>> Load pretrained from: /root/.keras/models/efficientnetv2/efficientnetv2-b2-imagenet.h5\n",
            "Model: \"EfficientNetV2B2\"\n",
            "_________________________________________________________________\n",
            " Layer (type)                Output Shape              Param #   \n",
            "=================================================================\n",
            " input_9 (InputLayer)        [(None, 32, 32, 3)]       0         \n",
            "                                                                 \n",
            " data_augmentation (Sequenti  (None, 260, 260, 3)      0         \n",
            " al)                                                             \n",
            "                                                                 \n",
            " EfficientNetV2B2 (Functiona  (None, 9, 9, 1408)       8769374   \n",
            " l)                                                              \n",
            "                                                                 \n",
            " global_average_pooling2d_4   (None, 1408)             0         \n",
            " (GlobalAveragePooling2D)                                        \n",
            "                                                                 \n",
            " dropout_4 (Dropout)         (None, 1408)              0         \n",
            "                                                                 \n",
            " dense_4 (Dense)             (None, 10)                14090     \n",
            "                                                                 \n",
            "=================================================================\n",
            "Total params: 8,783,464\n",
            "Trainable params: 14,090\n",
            "Non-trainable params: 8,769,374\n",
            "_________________________________________________________________\n"
          ]
        }
      ]
    },
    {
      "cell_type": "code",
      "source": [
        "cp_path = f\"best_cp[2].hdf5\"\n",
        "cb_checkpt = tf.keras.callbacks.ModelCheckpoint(cp_path, monitor = 'val_loss', verbose = 0,\n",
        "                                 save_best_only = True,\n",
        "                                 save_weights_only = True,\n",
        "                                 mode = 'min')\n",
        "\n",
        "history = model.fit(train_ds, validation_data=val_ds, \n",
        "                    epochs=EPOCHS, callbacks = [cb_checkpt],verbose=1)\n",
        "\n",
        "model.load_weights(cp_path)"
      ],
      "metadata": {
        "id": "t4fYAVu9ACqd",
        "colab": {
          "base_uri": "https://localhost:8080/"
        },
        "outputId": "7e3da3d4-b53a-44a3-a789-2529d3c0bbe6"
      },
      "execution_count": null,
      "outputs": [
        {
          "output_type": "stream",
          "name": "stdout",
          "text": [
            "Epoch 1/25\n",
            "352/352 [==============================] - 78s 145ms/step - loss: 0.7783 - accuracy: 0.7619 - top-5-accuracy: 0.9763 - val_loss: 0.5801 - val_accuracy: 0.8156 - val_top-5-accuracy: 0.9918\n",
            "Epoch 2/25\n",
            "352/352 [==============================] - 19s 55ms/step - loss: 0.5551 - accuracy: 0.8220 - top-5-accuracy: 0.9913 - val_loss: 0.5247 - val_accuracy: 0.8318 - val_top-5-accuracy: 0.9924\n",
            "Epoch 3/25\n",
            "352/352 [==============================] - 19s 54ms/step - loss: 0.5132 - accuracy: 0.8328 - top-5-accuracy: 0.9923 - val_loss: 0.4967 - val_accuracy: 0.8378 - val_top-5-accuracy: 0.9936\n",
            "Epoch 4/25\n",
            "352/352 [==============================] - 19s 54ms/step - loss: 0.4894 - accuracy: 0.8396 - top-5-accuracy: 0.9934 - val_loss: 0.4773 - val_accuracy: 0.8412 - val_top-5-accuracy: 0.9940\n",
            "Epoch 5/25\n",
            "352/352 [==============================] - 20s 58ms/step - loss: 0.4722 - accuracy: 0.8441 - top-5-accuracy: 0.9939 - val_loss: 0.4633 - val_accuracy: 0.8444 - val_top-5-accuracy: 0.9940\n",
            "Epoch 6/25\n",
            "352/352 [==============================] - 20s 56ms/step - loss: 0.4582 - accuracy: 0.8478 - top-5-accuracy: 0.9940 - val_loss: 0.4524 - val_accuracy: 0.8464 - val_top-5-accuracy: 0.9942\n",
            "Epoch 7/25\n",
            "352/352 [==============================] - 19s 54ms/step - loss: 0.4474 - accuracy: 0.8516 - top-5-accuracy: 0.9942 - val_loss: 0.4432 - val_accuracy: 0.8500 - val_top-5-accuracy: 0.9944\n",
            "Epoch 8/25\n",
            "352/352 [==============================] - 19s 55ms/step - loss: 0.4385 - accuracy: 0.8536 - top-5-accuracy: 0.9946 - val_loss: 0.4353 - val_accuracy: 0.8518 - val_top-5-accuracy: 0.9946\n",
            "Epoch 9/25\n",
            "352/352 [==============================] - 19s 55ms/step - loss: 0.4310 - accuracy: 0.8562 - top-5-accuracy: 0.9947 - val_loss: 0.4285 - val_accuracy: 0.8534 - val_top-5-accuracy: 0.9938\n",
            "Epoch 10/25\n",
            "352/352 [==============================] - 19s 55ms/step - loss: 0.4238 - accuracy: 0.8587 - top-5-accuracy: 0.9946 - val_loss: 0.4226 - val_accuracy: 0.8552 - val_top-5-accuracy: 0.9948\n",
            "Epoch 11/25\n",
            "352/352 [==============================] - 19s 54ms/step - loss: 0.4177 - accuracy: 0.8599 - top-5-accuracy: 0.9950 - val_loss: 0.4176 - val_accuracy: 0.8552 - val_top-5-accuracy: 0.9944\n",
            "Epoch 12/25\n",
            "352/352 [==============================] - 19s 55ms/step - loss: 0.4123 - accuracy: 0.8606 - top-5-accuracy: 0.9952 - val_loss: 0.4127 - val_accuracy: 0.8576 - val_top-5-accuracy: 0.9946\n",
            "Epoch 13/25\n",
            "352/352 [==============================] - 19s 55ms/step - loss: 0.4075 - accuracy: 0.8629 - top-5-accuracy: 0.9953 - val_loss: 0.4084 - val_accuracy: 0.8594 - val_top-5-accuracy: 0.9948\n",
            "Epoch 14/25\n",
            "352/352 [==============================] - 19s 54ms/step - loss: 0.4015 - accuracy: 0.8644 - top-5-accuracy: 0.9954 - val_loss: 0.4044 - val_accuracy: 0.8610 - val_top-5-accuracy: 0.9952\n",
            "Epoch 15/25\n",
            "352/352 [==============================] - 20s 56ms/step - loss: 0.3987 - accuracy: 0.8657 - top-5-accuracy: 0.9957 - val_loss: 0.4009 - val_accuracy: 0.8604 - val_top-5-accuracy: 0.9950\n",
            "Epoch 16/25\n",
            "352/352 [==============================] - 20s 56ms/step - loss: 0.3945 - accuracy: 0.8672 - top-5-accuracy: 0.9957 - val_loss: 0.3979 - val_accuracy: 0.8638 - val_top-5-accuracy: 0.9948\n",
            "Epoch 17/25\n",
            "352/352 [==============================] - 19s 55ms/step - loss: 0.3906 - accuracy: 0.8693 - top-5-accuracy: 0.9958 - val_loss: 0.3944 - val_accuracy: 0.8640 - val_top-5-accuracy: 0.9948\n",
            "Epoch 18/25\n",
            "352/352 [==============================] - 19s 55ms/step - loss: 0.3870 - accuracy: 0.8709 - top-5-accuracy: 0.9958 - val_loss: 0.3918 - val_accuracy: 0.8654 - val_top-5-accuracy: 0.9952\n",
            "Epoch 19/25\n",
            "352/352 [==============================] - 20s 55ms/step - loss: 0.3830 - accuracy: 0.8705 - top-5-accuracy: 0.9958 - val_loss: 0.3889 - val_accuracy: 0.8664 - val_top-5-accuracy: 0.9950\n",
            "Epoch 20/25\n",
            "352/352 [==============================] - 20s 56ms/step - loss: 0.3802 - accuracy: 0.8719 - top-5-accuracy: 0.9959 - val_loss: 0.3865 - val_accuracy: 0.8678 - val_top-5-accuracy: 0.9950\n",
            "Epoch 21/25\n",
            "352/352 [==============================] - 20s 56ms/step - loss: 0.3781 - accuracy: 0.8719 - top-5-accuracy: 0.9959 - val_loss: 0.3843 - val_accuracy: 0.8694 - val_top-5-accuracy: 0.9952\n",
            "Epoch 22/25\n",
            "352/352 [==============================] - 21s 60ms/step - loss: 0.3763 - accuracy: 0.8727 - top-5-accuracy: 0.9962 - val_loss: 0.3819 - val_accuracy: 0.8694 - val_top-5-accuracy: 0.9948\n",
            "Epoch 23/25\n",
            "352/352 [==============================] - 19s 55ms/step - loss: 0.3714 - accuracy: 0.8750 - top-5-accuracy: 0.9959 - val_loss: 0.3799 - val_accuracy: 0.8700 - val_top-5-accuracy: 0.9948\n",
            "Epoch 24/25\n",
            "352/352 [==============================] - 20s 56ms/step - loss: 0.3688 - accuracy: 0.8754 - top-5-accuracy: 0.9964 - val_loss: 0.3778 - val_accuracy: 0.8710 - val_top-5-accuracy: 0.9954\n",
            "Epoch 25/25\n",
            "352/352 [==============================] - 19s 55ms/step - loss: 0.3674 - accuracy: 0.8770 - top-5-accuracy: 0.9962 - val_loss: 0.3762 - val_accuracy: 0.8708 - val_top-5-accuracy: 0.9948\n"
          ]
        }
      ]
    },
    {
      "cell_type": "code",
      "source": [
        "\n",
        "loss, accuracy, top_5_accuracy = model.evaluate(val_ds)\n",
        "print(f\"Val loss: {round(loss, 2)}\")\n",
        "print(f\"Val accuracy: {round(accuracy * 100, 2)}%\")\n",
        "print(f\"Val top 5 accuracy: {round(top_5_accuracy * 100, 2)}%\")"
      ],
      "metadata": {
        "id": "-5DOKnWA_vSR",
        "colab": {
          "base_uri": "https://localhost:8080/"
        },
        "outputId": "4b41c089-d4d7-4c32-b6ba-126ca47cf541"
      },
      "execution_count": null,
      "outputs": [
        {
          "output_type": "stream",
          "name": "stdout",
          "text": [
            "40/40 [==============================] - 3s 40ms/step - loss: 0.3762 - accuracy: 0.8708 - top-5-accuracy: 0.9948\n",
            "Val loss: 0.38\n",
            "Val accuracy: 87.08%\n",
            "Val top 5 accuracy: 99.48%\n"
          ]
        }
      ]
    },
    {
      "cell_type": "code",
      "source": [
        "# coba di data test(unseen)\n",
        "y_true = y_test.flatten()\n",
        "y_predu = model.predict(x_test)\n",
        "\n",
        "# effv2 b2\n",
        "acc = accuracy_score(y_true, np.argmax(y_predu,axis=1))\n",
        "\n",
        "print(f\"Test accuracy: {round(acc * 100, 2)}%\")"
      ],
      "metadata": {
        "id": "rpzw1DSK3aft",
        "colab": {
          "base_uri": "https://localhost:8080/"
        },
        "outputId": "c4b2f415-260d-4e9f-c28f-ba5da83dd694"
      },
      "execution_count": null,
      "outputs": [
        {
          "output_type": "stream",
          "name": "stdout",
          "text": [
            "Test accuracy: 86.85%\n"
          ]
        }
      ]
    },
    {
      "cell_type": "markdown",
      "source": [
        "##EfficientNetV2B3"
      ],
      "metadata": {
        "id": "V-bXhxfp-wkK"
      }
    },
    {
      "cell_type": "code",
      "source": [
        "\n",
        "data_augmentation = tf.keras.Sequential(\n",
        "    [\n",
        "        #layers.Rescaling(1 / 255.0), # [0, 1] \n",
        "        layers.Resizing(300, 300), # resize image \n",
        "        #layers.RandomCrop(IMAGE_SIZE, IMAGE_SIZE),\n",
        "        #layers.RandomFlip(\"horizontal\"),\n",
        "    ],\n",
        "    name=\"data_augmentation\",\n",
        ")"
      ],
      "metadata": {
        "id": "VwjEgi-v5scO"
      },
      "execution_count": null,
      "outputs": []
    },
    {
      "cell_type": "code",
      "source": [
        "\n",
        "with strategy.scope():\n",
        "\n",
        "    # /// get model ////\n",
        "    input = layers.Input(shape=(32, 32,3))\n",
        "\n",
        "    # resize image 32 to 300\n",
        "    x = data_augmentation(input)\n",
        "\n",
        "    # num_classes = 0 == include_top = False \n",
        "    # include preprocessing = True, will add rescale and normalization layers \n",
        "    Eff = keras_efficientnet_v2.EfficientNetV2B3(input_shape=(300,300,3),num_classes = 0,pretrained=\"imagenet\",include_preprocessing = True)(x)\n",
        "\n",
        "    # add fc      \n",
        "    x1 = layers.GlobalAveragePooling2D()(Eff)\n",
        "    x1 = layers.Dropout(0.1)(x1) \n",
        "    output = layers.Dense(10, activation=\"softmax\")(x1)\n",
        "\n",
        "    model = tf.keras.Model(inputs=input, outputs=output, name = \"EfficientNetV2B3\") \n",
        "   \n",
        "\n",
        "    # freeze EfficientNetV2B3\n",
        "    for layer in model.layers[2:3]:\n",
        "        layer.trainable = False\n",
        "\n",
        "    #define metrics\n",
        "    METRICS = [tf.keras.metrics.CategoricalAccuracy(name = \"accuracy\"),\n",
        "               tf.keras.metrics.TopKCategoricalAccuracy(5, name= \"top-5-accuracy\")]\n",
        "\n",
        "    #compile model \n",
        "    model.compile(optimizer = ADABELIEF, \n",
        "              loss = \"CategoricalCrossentropy\",\n",
        "              metrics = METRICS)\n",
        "\n",
        "model.summary()"
      ],
      "metadata": {
        "id": "Ha-EFJsU6dNm",
        "colab": {
          "base_uri": "https://localhost:8080/"
        },
        "outputId": "c83d4fd6-ba24-4d81-b43e-f5a5edac3af8"
      },
      "execution_count": null,
      "outputs": [
        {
          "output_type": "stream",
          "name": "stdout",
          "text": [
            "Downloading data from https://github.com/leondgarse/keras_efficientnet_v2/releases/download/effnetv2_pretrained/efficientnetv2-b3-imagenet.h5\n",
            "58998784/58991392 [==============================] - 1s 0us/step\n",
            "59006976/58991392 [==============================] - 1s 0us/step\n",
            ">>>> Load pretrained from: /root/.keras/models/efficientnetv2/efficientnetv2-b3-imagenet.h5\n",
            "Model: \"EfficientNetV2B3\"\n",
            "_________________________________________________________________\n",
            " Layer (type)                Output Shape              Param #   \n",
            "=================================================================\n",
            " input_11 (InputLayer)       [(None, 32, 32, 3)]       0         \n",
            "                                                                 \n",
            " data_augmentation (Sequenti  (None, 300, 300, 3)      0         \n",
            " al)                                                             \n",
            "                                                                 \n",
            " EfficientNetV2B3 (Functiona  (None, 10, 10, 1536)     12930622  \n",
            " l)                                                              \n",
            "                                                                 \n",
            " global_average_pooling2d_5   (None, 1536)             0         \n",
            " (GlobalAveragePooling2D)                                        \n",
            "                                                                 \n",
            " dropout_5 (Dropout)         (None, 1536)              0         \n",
            "                                                                 \n",
            " dense_5 (Dense)             (None, 10)                15370     \n",
            "                                                                 \n",
            "=================================================================\n",
            "Total params: 12,945,992\n",
            "Trainable params: 15,370\n",
            "Non-trainable params: 12,930,622\n",
            "_________________________________________________________________\n"
          ]
        }
      ]
    },
    {
      "cell_type": "code",
      "source": [
        "\n",
        "cp_path = f\"best_cp[3].hdf5\"\n",
        "cb_checkpt = tf.keras.callbacks.ModelCheckpoint(cp_path, monitor = 'val_loss', verbose = 0,\n",
        "                                 save_best_only = True,\n",
        "                                 save_weights_only = True,\n",
        "                                 mode = 'min')\n",
        "\n",
        "history = model.fit(train_ds, validation_data=val_ds, \n",
        "                    epochs=EPOCHS, callbacks = [cb_checkpt],verbose=1)\n",
        "\n",
        "model.load_weights(cp_path)"
      ],
      "metadata": {
        "id": "GJKqSMClADl8",
        "colab": {
          "base_uri": "https://localhost:8080/"
        },
        "outputId": "1dd9c46e-3f47-483a-afea-8e509b0ca29c"
      },
      "execution_count": null,
      "outputs": [
        {
          "output_type": "stream",
          "name": "stdout",
          "text": [
            "Epoch 1/25\n",
            "352/352 [==============================] - 160s 305ms/step - loss: 0.6538 - accuracy: 0.8055 - top-5-accuracy: 0.9809 - val_loss: 0.4510 - val_accuracy: 0.8612 - val_top-5-accuracy: 0.9950\n",
            "Epoch 2/25\n",
            "352/352 [==============================] - 24s 69ms/step - loss: 0.4433 - accuracy: 0.8570 - top-5-accuracy: 0.9940 - val_loss: 0.4043 - val_accuracy: 0.8714 - val_top-5-accuracy: 0.9966\n",
            "Epoch 3/25\n",
            "352/352 [==============================] - 24s 69ms/step - loss: 0.4086 - accuracy: 0.8655 - top-5-accuracy: 0.9954 - val_loss: 0.3814 - val_accuracy: 0.8762 - val_top-5-accuracy: 0.9972\n",
            "Epoch 4/25\n",
            "352/352 [==============================] - 24s 69ms/step - loss: 0.3887 - accuracy: 0.8710 - top-5-accuracy: 0.9954 - val_loss: 0.3665 - val_accuracy: 0.8780 - val_top-5-accuracy: 0.9978\n",
            "Epoch 5/25\n",
            "352/352 [==============================] - 24s 68ms/step - loss: 0.3748 - accuracy: 0.8751 - top-5-accuracy: 0.9956 - val_loss: 0.3555 - val_accuracy: 0.8804 - val_top-5-accuracy: 0.9978\n",
            "Epoch 6/25\n",
            "352/352 [==============================] - 24s 69ms/step - loss: 0.3630 - accuracy: 0.8788 - top-5-accuracy: 0.9962 - val_loss: 0.3471 - val_accuracy: 0.8832 - val_top-5-accuracy: 0.9978\n",
            "Epoch 7/25\n",
            "352/352 [==============================] - 26s 73ms/step - loss: 0.3537 - accuracy: 0.8821 - top-5-accuracy: 0.9964 - val_loss: 0.3400 - val_accuracy: 0.8826 - val_top-5-accuracy: 0.9974\n",
            "Epoch 8/25\n",
            "352/352 [==============================] - 24s 69ms/step - loss: 0.3471 - accuracy: 0.8840 - top-5-accuracy: 0.9962 - val_loss: 0.3338 - val_accuracy: 0.8850 - val_top-5-accuracy: 0.9974\n",
            "Epoch 9/25\n",
            "352/352 [==============================] - 25s 70ms/step - loss: 0.3404 - accuracy: 0.8852 - top-5-accuracy: 0.9965 - val_loss: 0.3287 - val_accuracy: 0.8866 - val_top-5-accuracy: 0.9972\n",
            "Epoch 10/25\n",
            "352/352 [==============================] - 24s 68ms/step - loss: 0.3351 - accuracy: 0.8872 - top-5-accuracy: 0.9968 - val_loss: 0.3239 - val_accuracy: 0.8888 - val_top-5-accuracy: 0.9974\n",
            "Epoch 11/25\n",
            "352/352 [==============================] - 24s 69ms/step - loss: 0.3297 - accuracy: 0.8895 - top-5-accuracy: 0.9965 - val_loss: 0.3197 - val_accuracy: 0.8896 - val_top-5-accuracy: 0.9974\n",
            "Epoch 12/25\n",
            "352/352 [==============================] - 24s 68ms/step - loss: 0.3249 - accuracy: 0.8893 - top-5-accuracy: 0.9969 - val_loss: 0.3160 - val_accuracy: 0.8910 - val_top-5-accuracy: 0.9974\n",
            "Epoch 13/25\n",
            "352/352 [==============================] - 24s 70ms/step - loss: 0.3205 - accuracy: 0.8927 - top-5-accuracy: 0.9968 - val_loss: 0.3125 - val_accuracy: 0.8930 - val_top-5-accuracy: 0.9978\n",
            "Epoch 14/25\n",
            "352/352 [==============================] - 25s 70ms/step - loss: 0.3169 - accuracy: 0.8936 - top-5-accuracy: 0.9971 - val_loss: 0.3096 - val_accuracy: 0.8942 - val_top-5-accuracy: 0.9978\n",
            "Epoch 15/25\n",
            "352/352 [==============================] - 24s 68ms/step - loss: 0.3139 - accuracy: 0.8938 - top-5-accuracy: 0.9973 - val_loss: 0.3067 - val_accuracy: 0.8944 - val_top-5-accuracy: 0.9978\n",
            "Epoch 16/25\n",
            "352/352 [==============================] - 24s 68ms/step - loss: 0.3106 - accuracy: 0.8952 - top-5-accuracy: 0.9972 - val_loss: 0.3040 - val_accuracy: 0.8960 - val_top-5-accuracy: 0.9978\n",
            "Epoch 17/25\n",
            "352/352 [==============================] - 24s 69ms/step - loss: 0.3075 - accuracy: 0.8972 - top-5-accuracy: 0.9973 - val_loss: 0.3017 - val_accuracy: 0.8974 - val_top-5-accuracy: 0.9980\n",
            "Epoch 18/25\n",
            "352/352 [==============================] - 24s 68ms/step - loss: 0.3043 - accuracy: 0.8973 - top-5-accuracy: 0.9974 - val_loss: 0.2996 - val_accuracy: 0.8980 - val_top-5-accuracy: 0.9980\n",
            "Epoch 19/25\n",
            "352/352 [==============================] - 24s 68ms/step - loss: 0.3017 - accuracy: 0.8980 - top-5-accuracy: 0.9974 - val_loss: 0.2972 - val_accuracy: 0.9000 - val_top-5-accuracy: 0.9978\n",
            "Epoch 20/25\n",
            "352/352 [==============================] - 24s 67ms/step - loss: 0.2990 - accuracy: 0.8995 - top-5-accuracy: 0.9977 - val_loss: 0.2952 - val_accuracy: 0.9010 - val_top-5-accuracy: 0.9980\n",
            "Epoch 21/25\n",
            "352/352 [==============================] - 23s 65ms/step - loss: 0.2970 - accuracy: 0.8994 - top-5-accuracy: 0.9975 - val_loss: 0.2936 - val_accuracy: 0.9018 - val_top-5-accuracy: 0.9982\n",
            "Epoch 22/25\n",
            "352/352 [==============================] - 23s 65ms/step - loss: 0.2944 - accuracy: 0.9007 - top-5-accuracy: 0.9974 - val_loss: 0.2918 - val_accuracy: 0.9022 - val_top-5-accuracy: 0.9980\n",
            "Epoch 23/25\n",
            "352/352 [==============================] - 24s 67ms/step - loss: 0.2923 - accuracy: 0.9012 - top-5-accuracy: 0.9976 - val_loss: 0.2902 - val_accuracy: 0.9036 - val_top-5-accuracy: 0.9980\n",
            "Epoch 24/25\n",
            "352/352 [==============================] - 25s 72ms/step - loss: 0.2903 - accuracy: 0.9020 - top-5-accuracy: 0.9977 - val_loss: 0.2886 - val_accuracy: 0.9050 - val_top-5-accuracy: 0.9980\n",
            "Epoch 25/25\n",
            "352/352 [==============================] - 24s 67ms/step - loss: 0.2896 - accuracy: 0.9017 - top-5-accuracy: 0.9976 - val_loss: 0.2872 - val_accuracy: 0.9040 - val_top-5-accuracy: 0.9980\n"
          ]
        }
      ]
    },
    {
      "cell_type": "code",
      "source": [
        "\n",
        "loss, accuracy, top_5_accuracy = model.evaluate(val_ds)\n",
        "print(f\"Val loss: {round(loss, 2)}\")\n",
        "print(f\"Val accuracy: {round(accuracy * 100, 2)}%\")\n",
        "print(f\"Val top 5 accuracy: {round(top_5_accuracy * 100, 2)}%\")"
      ],
      "metadata": {
        "id": "Jvu8BVpH_wew",
        "colab": {
          "base_uri": "https://localhost:8080/"
        },
        "outputId": "5879ded0-45a2-4f94-dcac-8616507d1c3e"
      },
      "execution_count": null,
      "outputs": [
        {
          "output_type": "stream",
          "name": "stdout",
          "text": [
            "40/40 [==============================] - 3s 51ms/step - loss: 0.2873 - accuracy: 0.9038 - top-5-accuracy: 0.9980\n",
            "Val loss: 0.29\n",
            "Val accuracy: 90.38%\n",
            "Val top 5 accuracy: 99.8%\n"
          ]
        }
      ]
    },
    {
      "cell_type": "code",
      "source": [
        "\n",
        "# coba di data test(unseen)\n",
        "y_true = y_test.flatten()\n",
        "y_predu = model.predict(x_test)\n",
        "\n",
        "# effv2 b3\n",
        "acc = accuracy_score(y_true, np.argmax(y_predu,axis=1))\n",
        "\n",
        "print(f\"Test accuracy: {round(acc * 100, 2)}%\")"
      ],
      "metadata": {
        "id": "36SHYWXS3fmP",
        "colab": {
          "base_uri": "https://localhost:8080/"
        },
        "outputId": "e80f1b7b-9a8a-490d-8df2-665c9195ab10"
      },
      "execution_count": null,
      "outputs": [
        {
          "output_type": "stream",
          "name": "stdout",
          "text": [
            "Test accuracy: 89.29%\n"
          ]
        }
      ]
    },
    {
      "cell_type": "markdown",
      "source": [
        "##EfficientNetV2T"
      ],
      "metadata": {
        "id": "h3hM2Apm-wuY"
      }
    },
    {
      "cell_type": "code",
      "source": [
        "\n",
        "data_augmentation = tf.keras.Sequential(\n",
        "    [\n",
        "        #layers.Rescaling(1 / 255.0), # [0, 1] \n",
        "        layers.Resizing(320, 320), # resize image \n",
        "        #layers.RandomCrop(IMAGE_SIZE, IMAGE_SIZE),\n",
        "        #layers.RandomFlip(\"horizontal\"),\n",
        "    ],\n",
        "    name=\"data_augmentation\",\n",
        ")"
      ],
      "metadata": {
        "id": "UWi-gL6A5vTV"
      },
      "execution_count": null,
      "outputs": []
    },
    {
      "cell_type": "code",
      "source": [
        "\n",
        "with strategy.scope(): \n",
        "\n",
        "    # /// get model ////\n",
        "    input = layers.Input(shape=(32, 32,3))\n",
        "\n",
        "    # resize image 32 to 320\n",
        "    x = data_augmentation(input)\n",
        "\n",
        "    # num_classes = 0 == include_top = False \n",
        "    # include preprocessing = True, will add rescale and normalization layers \n",
        "    Eff = keras_efficientnet_v2.EfficientNetV2T(input_shape=(320,320,3),num_classes = 0,pretrained=\"imagenet\",include_preprocessing = True)(x)\n",
        "\n",
        "    # add fc      \n",
        "    x1 = layers.GlobalAveragePooling2D()(Eff)\n",
        "    x1 = layers.Dropout(0.1)(x1) \n",
        "    output = layers.Dense(10, activation=\"softmax\")(x1)\n",
        "\n",
        "    model = tf.keras.Model(inputs=input, outputs=output, name=\"EfficientNetV2T\") \n",
        "   \n",
        "\n",
        "    # freeze EfficientNetV2T\n",
        "    for layer in model.layers[2:3]:\n",
        "        layer.trainable = False\n",
        "\n",
        "    #define metrics\n",
        "    METRICS = [tf.keras.metrics.CategoricalAccuracy(name = \"accuracy\"),\n",
        "               tf.keras.metrics.TopKCategoricalAccuracy(5, name= \"top-5-accuracy\")]\n",
        "\n",
        "    #compile model \n",
        "    model.compile(optimizer = ADABELIEF, \n",
        "              loss = \"CategoricalCrossentropy\",\n",
        "              metrics = METRICS)\n",
        "\n",
        "model.summary()"
      ],
      "metadata": {
        "id": "8h5uKx3z_cwO",
        "colab": {
          "base_uri": "https://localhost:8080/"
        },
        "outputId": "a4a2f17f-aaa5-4799-f54b-d6443f287d3e"
      },
      "execution_count": null,
      "outputs": [
        {
          "output_type": "stream",
          "name": "stdout",
          "text": [
            ">>>> Load pretrained from: /root/.keras/models/efficientnetv2/efficientnetv2-t-imagenet.h5\n",
            "Model: \"EfficientNetV2T\"\n",
            "_________________________________________________________________\n",
            " Layer (type)                Output Shape              Param #   \n",
            "=================================================================\n",
            " input_7 (InputLayer)        [(None, 32, 32, 3)]       0         \n",
            "                                                                 \n",
            " data_augmentation (Sequenti  (None, 320, 320, 3)      0         \n",
            " al)                                                             \n",
            "                                                                 \n",
            " EfficientNetV2T (Functional  (None, 10, 10, 1024)     12743412  \n",
            " )                                                               \n",
            "                                                                 \n",
            " global_average_pooling2d_3   (None, 1024)             0         \n",
            " (GlobalAveragePooling2D)                                        \n",
            "                                                                 \n",
            " dropout_3 (Dropout)         (None, 1024)              0         \n",
            "                                                                 \n",
            " dense_3 (Dense)             (None, 10)                10250     \n",
            "                                                                 \n",
            "=================================================================\n",
            "Total params: 12,753,662\n",
            "Trainable params: 10,250\n",
            "Non-trainable params: 12,743,412\n",
            "_________________________________________________________________\n"
          ]
        }
      ]
    },
    {
      "cell_type": "code",
      "source": [
        "\n",
        "cp_path = f\"best_cp[T].hdf5\"\n",
        "cb_checkpt = tf.keras.callbacks.ModelCheckpoint(cp_path, monitor = 'val_loss', verbose = 0,\n",
        "                                 save_best_only = True,\n",
        "                                 save_weights_only = True,\n",
        "                                 mode = 'min')\n",
        "\n",
        "history = model.fit(train_ds, validation_data=val_ds, \n",
        "                    epochs=EPOCHS, callbacks = [cb_checkpt],verbose=1)\n",
        "\n",
        "model.load_weights(cp_path)"
      ],
      "metadata": {
        "id": "EbTu4Z53AFa6",
        "colab": {
          "base_uri": "https://localhost:8080/"
        },
        "outputId": "5e310f33-d865-4689-b431-52688695875f"
      },
      "execution_count": null,
      "outputs": [
        {
          "output_type": "stream",
          "name": "stdout",
          "text": [
            "Epoch 1/25\n",
            "WARNING:tensorflow:From /usr/local/lib/python3.7/dist-packages/keras/engine/training.py:2970: StrategyBase.unwrap (from tensorflow.python.distribute.distribute_lib) is deprecated and will be removed in a future version.\n",
            "Instructions for updating:\n",
            "use `experimental_local_results` instead.\n"
          ]
        },
        {
          "output_type": "stream",
          "name": "stderr",
          "text": [
            "WARNING:tensorflow:From /usr/local/lib/python3.7/dist-packages/keras/engine/training.py:2970: StrategyBase.unwrap (from tensorflow.python.distribute.distribute_lib) is deprecated and will be removed in a future version.\n",
            "Instructions for updating:\n",
            "use `experimental_local_results` instead.\n"
          ]
        },
        {
          "output_type": "stream",
          "name": "stdout",
          "text": [
            "352/352 [==============================] - 127s 242ms/step - loss: 0.6391 - accuracy: 0.8030 - top-5-accuracy: 0.9612 - val_loss: 0.2784 - val_accuracy: 0.9036 - val_top-5-accuracy: 0.9970\n",
            "Epoch 2/25\n",
            "352/352 [==============================] - 21s 61ms/step - loss: 0.3135 - accuracy: 0.8993 - top-5-accuracy: 0.9964 - val_loss: 0.3438 - val_accuracy: 0.8972 - val_top-5-accuracy: 0.9960\n",
            "Epoch 3/25\n",
            "352/352 [==============================] - 23s 65ms/step - loss: 0.3554 - accuracy: 0.9010 - top-5-accuracy: 0.9967 - val_loss: 0.3524 - val_accuracy: 0.9056 - val_top-5-accuracy: 0.9972\n",
            "Epoch 4/25\n",
            "352/352 [==============================] - 24s 70ms/step - loss: 0.2545 - accuracy: 0.9208 - top-5-accuracy: 0.9982 - val_loss: 0.2387 - val_accuracy: 0.9288 - val_top-5-accuracy: 0.9980\n",
            "Epoch 5/25\n",
            "352/352 [==============================] - 21s 61ms/step - loss: 0.2071 - accuracy: 0.9319 - top-5-accuracy: 0.9988 - val_loss: 0.2681 - val_accuracy: 0.9196 - val_top-5-accuracy: 0.9978\n",
            "Epoch 6/25\n",
            "352/352 [==============================] - 21s 60ms/step - loss: 0.2750 - accuracy: 0.9154 - top-5-accuracy: 0.9981 - val_loss: 0.3446 - val_accuracy: 0.9044 - val_top-5-accuracy: 0.9970\n",
            "Epoch 7/25\n",
            "352/352 [==============================] - 22s 63ms/step - loss: 0.2965 - accuracy: 0.9134 - top-5-accuracy: 0.9982 - val_loss: 0.2820 - val_accuracy: 0.9214 - val_top-5-accuracy: 0.9984\n",
            "Epoch 8/25\n",
            "352/352 [==============================] - 21s 60ms/step - loss: 0.2202 - accuracy: 0.9296 - top-5-accuracy: 0.9986 - val_loss: 0.2418 - val_accuracy: 0.9268 - val_top-5-accuracy: 0.9984\n",
            "Epoch 9/25\n",
            "352/352 [==============================] - 22s 63ms/step - loss: 0.1911 - accuracy: 0.9366 - top-5-accuracy: 0.9992 - val_loss: 0.2580 - val_accuracy: 0.9194 - val_top-5-accuracy: 0.9978\n",
            "Epoch 10/25\n",
            "352/352 [==============================] - 21s 60ms/step - loss: 0.2208 - accuracy: 0.9271 - top-5-accuracy: 0.9989 - val_loss: 0.2716 - val_accuracy: 0.9182 - val_top-5-accuracy: 0.9980\n",
            "Epoch 11/25\n",
            "352/352 [==============================] - 22s 64ms/step - loss: 0.2278 - accuracy: 0.9260 - top-5-accuracy: 0.9989 - val_loss: 0.2632 - val_accuracy: 0.9240 - val_top-5-accuracy: 0.9980\n",
            "Epoch 12/25\n",
            "352/352 [==============================] - 24s 69ms/step - loss: 0.1908 - accuracy: 0.9339 - top-5-accuracy: 0.9991 - val_loss: 0.2321 - val_accuracy: 0.9280 - val_top-5-accuracy: 0.9988\n",
            "Epoch 13/25\n",
            "352/352 [==============================] - 22s 63ms/step - loss: 0.1755 - accuracy: 0.9406 - top-5-accuracy: 0.9992 - val_loss: 0.2409 - val_accuracy: 0.9276 - val_top-5-accuracy: 0.9990\n",
            "Epoch 14/25\n",
            "352/352 [==============================] - 22s 61ms/step - loss: 0.1951 - accuracy: 0.9344 - top-5-accuracy: 0.9990 - val_loss: 0.2572 - val_accuracy: 0.9230 - val_top-5-accuracy: 0.9984\n",
            "Epoch 15/25\n",
            "352/352 [==============================] - 23s 65ms/step - loss: 0.1944 - accuracy: 0.9336 - top-5-accuracy: 0.9991 - val_loss: 0.2383 - val_accuracy: 0.9290 - val_top-5-accuracy: 0.9984\n",
            "Epoch 16/25\n",
            "352/352 [==============================] - 24s 69ms/step - loss: 0.1733 - accuracy: 0.9405 - top-5-accuracy: 0.9991 - val_loss: 0.2298 - val_accuracy: 0.9274 - val_top-5-accuracy: 0.9986\n",
            "Epoch 17/25\n",
            "352/352 [==============================] - 21s 61ms/step - loss: 0.1655 - accuracy: 0.9422 - top-5-accuracy: 0.9994 - val_loss: 0.2322 - val_accuracy: 0.9264 - val_top-5-accuracy: 0.9988\n",
            "Epoch 18/25\n",
            "352/352 [==============================] - 22s 64ms/step - loss: 0.1747 - accuracy: 0.9400 - top-5-accuracy: 0.9994 - val_loss: 0.2446 - val_accuracy: 0.9246 - val_top-5-accuracy: 0.9986\n",
            "Epoch 19/25\n",
            "352/352 [==============================] - 22s 62ms/step - loss: 0.1766 - accuracy: 0.9389 - top-5-accuracy: 0.9992 - val_loss: 0.2345 - val_accuracy: 0.9264 - val_top-5-accuracy: 0.9986\n",
            "Epoch 20/25\n",
            "352/352 [==============================] - 26s 73ms/step - loss: 0.1671 - accuracy: 0.9412 - top-5-accuracy: 0.9994 - val_loss: 0.2254 - val_accuracy: 0.9272 - val_top-5-accuracy: 0.9986\n",
            "Epoch 21/25\n",
            "352/352 [==============================] - 23s 66ms/step - loss: 0.1639 - accuracy: 0.9426 - top-5-accuracy: 0.9994 - val_loss: 0.2274 - val_accuracy: 0.9282 - val_top-5-accuracy: 0.9986\n",
            "Epoch 22/25\n",
            "352/352 [==============================] - 22s 63ms/step - loss: 0.1674 - accuracy: 0.9416 - top-5-accuracy: 0.9994 - val_loss: 0.2312 - val_accuracy: 0.9280 - val_top-5-accuracy: 0.9986\n",
            "Epoch 23/25\n",
            "352/352 [==============================] - 22s 62ms/step - loss: 0.1682 - accuracy: 0.9406 - top-5-accuracy: 0.9995 - val_loss: 0.2274 - val_accuracy: 0.9284 - val_top-5-accuracy: 0.9986\n",
            "Epoch 24/25\n",
            "352/352 [==============================] - 27s 76ms/step - loss: 0.1628 - accuracy: 0.9423 - top-5-accuracy: 0.9994 - val_loss: 0.2243 - val_accuracy: 0.9270 - val_top-5-accuracy: 0.9982\n",
            "Epoch 25/25\n",
            "352/352 [==============================] - 25s 72ms/step - loss: 0.1609 - accuracy: 0.9438 - top-5-accuracy: 0.9995 - val_loss: 0.2242 - val_accuracy: 0.9276 - val_top-5-accuracy: 0.9986\n"
          ]
        }
      ]
    },
    {
      "cell_type": "code",
      "source": [
        "\n",
        "loss, accuracy, top_5_accuracy = model.evaluate(val_ds)\n",
        "print(f\"Val loss: {round(loss, 2)}\")\n",
        "print(f\"Val accuracy: {round(accuracy * 100, 2)}%\")\n",
        "print(f\"Val top 5 accuracy: {round(top_5_accuracy * 100, 2)}%\")"
      ],
      "metadata": {
        "id": "GURdxATV_xd3",
        "colab": {
          "base_uri": "https://localhost:8080/"
        },
        "outputId": "5e777e95-4f81-4917-d027-a001a3a14107"
      },
      "execution_count": null,
      "outputs": [
        {
          "output_type": "stream",
          "name": "stdout",
          "text": [
            "40/40 [==============================] - 5s 64ms/step - loss: 0.2242 - accuracy: 0.9280 - top-5-accuracy: 0.9986\n",
            "Val loss: 0.22\n",
            "Val accuracy: 92.8%\n",
            "Val top 5 accuracy: 99.86%\n"
          ]
        }
      ]
    },
    {
      "cell_type": "code",
      "source": [
        "\n",
        "# coba di data test(unseen)\n",
        "y_true = y_test.flatten()\n",
        "y_predu = model.predict(x_test)\n",
        "\n",
        "# effv2 T\n",
        "acc = accuracy_score(y_true, np.argmax(y_predu,axis=1))\n",
        "\n",
        "print(f\"Test accuracy: {round(acc * 100, 2)}%\")"
      ],
      "metadata": {
        "id": "aM0dwn0Q3kM1",
        "colab": {
          "base_uri": "https://localhost:8080/"
        },
        "outputId": "5d56a25f-5b54-4fd0-a41b-b04ba719c865"
      },
      "execution_count": null,
      "outputs": [
        {
          "output_type": "stream",
          "name": "stdout",
          "text": [
            "Test accuracy: 92.53%\n"
          ]
        }
      ]
    },
    {
      "cell_type": "markdown",
      "source": [
        "##EfficientNetV2S"
      ],
      "metadata": {
        "id": "ISi12kts-w20"
      }
    },
    {
      "cell_type": "code",
      "source": [
        "\n",
        "data_augmentation = tf.keras.Sequential(\n",
        "    [\n",
        "        #layers.Rescaling(1 / 255.0), # [0, 1] \n",
        "        layers.Resizing(384, 384), # resize image \n",
        "        #layers.RandomCrop(IMAGE_SIZE, IMAGE_SIZE),\n",
        "        #layers.RandomFlip(\"horizontal\"),\n",
        "    ],\n",
        "    name=\"data_augmentation\",\n",
        ")"
      ],
      "metadata": {
        "id": "3Yl9XqoT50RY"
      },
      "execution_count": null,
      "outputs": []
    },
    {
      "cell_type": "code",
      "source": [
        "\n",
        "with strategy.scope(): \n",
        "    # /// get model ////\n",
        "    input = layers.Input(shape=(32, 32,3))\n",
        "\n",
        "    # resize image 32 to 384\n",
        "    x = data_augmentation(input)\n",
        "\n",
        "    # num_classes = 0 == include_top = False \n",
        "    # include preprocessing = True, will add rescale and normalization layers \n",
        "    Eff = keras_efficientnet_v2.EfficientNetV2S(input_shape=(384,384,3),num_classes = 0,pretrained=\"imagenet\",include_preprocessing = True)(x)\n",
        "\n",
        "    # add fc      \n",
        "    x1 = layers.GlobalAveragePooling2D()(Eff)\n",
        "    x1 = layers.Dropout(0.1)(x1) \n",
        "    output = layers.Dense(10, activation=\"softmax\")(x1)\n",
        "\n",
        "    model = tf.keras.Model(inputs=input, outputs=output, name=\"EfficientNetV2S\") \n",
        "   \n",
        "\n",
        "    # freeze EfficientNetV2S\n",
        "    for layer in model.layers[2:3]:\n",
        "        layer.trainable = False\n",
        "\n",
        "    #define metrics\n",
        "    METRICS = [tf.keras.metrics.CategoricalAccuracy(name = \"accuracy\"),\n",
        "               tf.keras.metrics.TopKCategoricalAccuracy(5, name= \"top-5-accuracy\")]\n",
        "\n",
        "    #compile model \n",
        "    model.compile(optimizer = ADABELIEF, \n",
        "              loss = \"CategoricalCrossentropy\",\n",
        "              metrics = METRICS)\n",
        "\n",
        "model.summary()"
      ],
      "metadata": {
        "id": "x__dUcZP_dy3",
        "colab": {
          "base_uri": "https://localhost:8080/"
        },
        "outputId": "f9404018-bc11-424e-bfc9-e152c8401429"
      },
      "execution_count": null,
      "outputs": [
        {
          "output_type": "stream",
          "name": "stdout",
          "text": [
            "Downloading data from https://github.com/leondgarse/keras_efficientnet_v2/releases/download/effnetv2_pretrained/efficientnetv2-s-imagenet.h5\n",
            "87851008/87846816 [==============================] - 1s 0us/step\n",
            "87859200/87846816 [==============================] - 1s 0us/step\n",
            ">>>> Load pretrained from: /root/.keras/models/efficientnetv2/efficientnetv2-s-imagenet.h5\n",
            "Model: \"EfficientNetV2S\"\n",
            "_________________________________________________________________\n",
            " Layer (type)                Output Shape              Param #   \n",
            "=================================================================\n",
            " input_9 (InputLayer)        [(None, 32, 32, 3)]       0         \n",
            "                                                                 \n",
            " data_augmentation (Sequenti  (None, 384, 384, 3)      0         \n",
            " al)                                                             \n",
            "                                                                 \n",
            " EfficientNetV2S (Functional  (None, 12, 12, 1280)     20331360  \n",
            " )                                                               \n",
            "                                                                 \n",
            " global_average_pooling2d_4   (None, 1280)             0         \n",
            " (GlobalAveragePooling2D)                                        \n",
            "                                                                 \n",
            " dropout_4 (Dropout)         (None, 1280)              0         \n",
            "                                                                 \n",
            " dense_4 (Dense)             (None, 10)                12810     \n",
            "                                                                 \n",
            "=================================================================\n",
            "Total params: 20,344,170\n",
            "Trainable params: 12,810\n",
            "Non-trainable params: 20,331,360\n",
            "_________________________________________________________________\n"
          ]
        }
      ]
    },
    {
      "cell_type": "code",
      "source": [
        "\n",
        "cp_path = f\"best_cp[S].hdf5\"\n",
        "cb_checkpt = tf.keras.callbacks.ModelCheckpoint(cp_path, monitor = 'val_loss', verbose = 0,\n",
        "                                 save_best_only = True,\n",
        "                                 save_weights_only = True,\n",
        "                                 mode = 'min')\n",
        "\n",
        "history = model.fit(train_ds, validation_data=val_ds, \n",
        "                    epochs=EPOCHS, callbacks = [cb_checkpt],verbose=1)\n",
        "\n",
        "model.load_weights(cp_path)"
      ],
      "metadata": {
        "id": "TgIDbd8AAGbr",
        "colab": {
          "base_uri": "https://localhost:8080/"
        },
        "outputId": "67dbb10b-7d8a-42dc-c99b-d5f9b0fe3ffd"
      },
      "execution_count": null,
      "outputs": [
        {
          "output_type": "stream",
          "name": "stdout",
          "text": [
            "Epoch 1/25\n",
            "352/352 [==============================] - 151s 287ms/step - loss: 0.4468 - accuracy: 0.8510 - top-5-accuracy: 0.9894 - val_loss: 0.3379 - val_accuracy: 0.8796 - val_top-5-accuracy: 0.9974\n",
            "Epoch 2/25\n",
            "352/352 [==============================] - 35s 99ms/step - loss: 0.3351 - accuracy: 0.8853 - top-5-accuracy: 0.9957 - val_loss: 0.3153 - val_accuracy: 0.8882 - val_top-5-accuracy: 0.9974\n",
            "Epoch 3/25\n",
            "352/352 [==============================] - 32s 90ms/step - loss: 0.3146 - accuracy: 0.8933 - top-5-accuracy: 0.9961 - val_loss: 0.3094 - val_accuracy: 0.8900 - val_top-5-accuracy: 0.9972\n",
            "Epoch 4/25\n",
            "352/352 [==============================] - 32s 91ms/step - loss: 0.3081 - accuracy: 0.8965 - top-5-accuracy: 0.9964 - val_loss: 0.3074 - val_accuracy: 0.8920 - val_top-5-accuracy: 0.9974\n",
            "Epoch 5/25\n",
            "352/352 [==============================] - 31s 89ms/step - loss: 0.3058 - accuracy: 0.8961 - top-5-accuracy: 0.9965 - val_loss: 0.3031 - val_accuracy: 0.8928 - val_top-5-accuracy: 0.9978\n",
            "Epoch 6/25\n",
            "352/352 [==============================] - 32s 90ms/step - loss: 0.3001 - accuracy: 0.8983 - top-5-accuracy: 0.9966 - val_loss: 0.3002 - val_accuracy: 0.8942 - val_top-5-accuracy: 0.9976\n",
            "Epoch 7/25\n",
            "352/352 [==============================] - 31s 88ms/step - loss: 0.2945 - accuracy: 0.9011 - top-5-accuracy: 0.9968 - val_loss: 0.2982 - val_accuracy: 0.8956 - val_top-5-accuracy: 0.9978\n",
            "Epoch 8/25\n",
            "352/352 [==============================] - 32s 92ms/step - loss: 0.2916 - accuracy: 0.9009 - top-5-accuracy: 0.9967 - val_loss: 0.2972 - val_accuracy: 0.8944 - val_top-5-accuracy: 0.9976\n",
            "Epoch 9/25\n",
            "352/352 [==============================] - 32s 92ms/step - loss: 0.2917 - accuracy: 0.9006 - top-5-accuracy: 0.9968 - val_loss: 0.2964 - val_accuracy: 0.8950 - val_top-5-accuracy: 0.9976\n",
            "Epoch 10/25\n",
            "352/352 [==============================] - 31s 89ms/step - loss: 0.2895 - accuracy: 0.9020 - top-5-accuracy: 0.9968 - val_loss: 0.2943 - val_accuracy: 0.8964 - val_top-5-accuracy: 0.9976\n",
            "Epoch 11/25\n",
            "352/352 [==============================] - 32s 92ms/step - loss: 0.2859 - accuracy: 0.9041 - top-5-accuracy: 0.9971 - val_loss: 0.2931 - val_accuracy: 0.8972 - val_top-5-accuracy: 0.9976\n",
            "Epoch 12/25\n",
            "352/352 [==============================] - 31s 89ms/step - loss: 0.2843 - accuracy: 0.9041 - top-5-accuracy: 0.9969 - val_loss: 0.2927 - val_accuracy: 0.8966 - val_top-5-accuracy: 0.9976\n",
            "Epoch 13/25\n",
            "352/352 [==============================] - 34s 97ms/step - loss: 0.2838 - accuracy: 0.9041 - top-5-accuracy: 0.9970 - val_loss: 0.2924 - val_accuracy: 0.8962 - val_top-5-accuracy: 0.9976\n",
            "Epoch 14/25\n",
            "352/352 [==============================] - 34s 98ms/step - loss: 0.2816 - accuracy: 0.9046 - top-5-accuracy: 0.9968 - val_loss: 0.2912 - val_accuracy: 0.8980 - val_top-5-accuracy: 0.9974\n",
            "Epoch 15/25\n",
            "352/352 [==============================] - 33s 93ms/step - loss: 0.2802 - accuracy: 0.9059 - top-5-accuracy: 0.9970 - val_loss: 0.2905 - val_accuracy: 0.8980 - val_top-5-accuracy: 0.9974\n",
            "Epoch 16/25\n",
            "352/352 [==============================] - 33s 93ms/step - loss: 0.2798 - accuracy: 0.9051 - top-5-accuracy: 0.9969 - val_loss: 0.2902 - val_accuracy: 0.8972 - val_top-5-accuracy: 0.9974\n",
            "Epoch 17/25\n",
            "352/352 [==============================] - 31s 89ms/step - loss: 0.2780 - accuracy: 0.9066 - top-5-accuracy: 0.9970 - val_loss: 0.2900 - val_accuracy: 0.8970 - val_top-5-accuracy: 0.9974\n",
            "Epoch 18/25\n",
            "352/352 [==============================] - 32s 91ms/step - loss: 0.2790 - accuracy: 0.9054 - top-5-accuracy: 0.9971 - val_loss: 0.2891 - val_accuracy: 0.8980 - val_top-5-accuracy: 0.9974\n",
            "Epoch 19/25\n",
            "352/352 [==============================] - 31s 88ms/step - loss: 0.2776 - accuracy: 0.9064 - top-5-accuracy: 0.9971 - val_loss: 0.2885 - val_accuracy: 0.8984 - val_top-5-accuracy: 0.9974\n",
            "Epoch 20/25\n",
            "352/352 [==============================] - 32s 91ms/step - loss: 0.2761 - accuracy: 0.9067 - top-5-accuracy: 0.9974 - val_loss: 0.2882 - val_accuracy: 0.8980 - val_top-5-accuracy: 0.9974\n",
            "Epoch 21/25\n",
            "352/352 [==============================] - 31s 89ms/step - loss: 0.2770 - accuracy: 0.9070 - top-5-accuracy: 0.9971 - val_loss: 0.2878 - val_accuracy: 0.8988 - val_top-5-accuracy: 0.9974\n",
            "Epoch 22/25\n",
            "352/352 [==============================] - 29s 81ms/step - loss: 0.2752 - accuracy: 0.9064 - top-5-accuracy: 0.9970 - val_loss: 0.2878 - val_accuracy: 0.8986 - val_top-5-accuracy: 0.9974\n",
            "Epoch 23/25\n",
            "352/352 [==============================] - 32s 92ms/step - loss: 0.2751 - accuracy: 0.9075 - top-5-accuracy: 0.9972 - val_loss: 0.2869 - val_accuracy: 0.8994 - val_top-5-accuracy: 0.9974\n",
            "Epoch 24/25\n",
            "352/352 [==============================] - 34s 96ms/step - loss: 0.2728 - accuracy: 0.9073 - top-5-accuracy: 0.9970 - val_loss: 0.2867 - val_accuracy: 0.8992 - val_top-5-accuracy: 0.9974\n",
            "Epoch 25/25\n",
            "352/352 [==============================] - 36s 101ms/step - loss: 0.2744 - accuracy: 0.9084 - top-5-accuracy: 0.9974 - val_loss: 0.2861 - val_accuracy: 0.8994 - val_top-5-accuracy: 0.9974\n"
          ]
        }
      ]
    },
    {
      "cell_type": "code",
      "source": [
        "\n",
        "loss, accuracy, top_5_accuracy = model.evaluate(val_ds)\n",
        "print(f\"Val loss: {round(loss, 2)}\")\n",
        "print(f\"Val accuracy: {round(accuracy * 100, 2)}%\")\n",
        "print(f\"Val top 5 accuracy: {round(top_5_accuracy * 100, 2)}%\")"
      ],
      "metadata": {
        "id": "r3QI4G7C_ygM",
        "colab": {
          "base_uri": "https://localhost:8080/"
        },
        "outputId": "857f451a-47ee-4717-c310-a3c917b14208"
      },
      "execution_count": null,
      "outputs": [
        {
          "output_type": "stream",
          "name": "stdout",
          "text": [
            "40/40 [==============================] - 5s 80ms/step - loss: 0.2861 - accuracy: 0.8994 - top-5-accuracy: 0.9974\n",
            "Val loss: 0.29\n",
            "Val accuracy: 89.94%\n",
            "Val top 5 accuracy: 99.74%\n"
          ]
        }
      ]
    },
    {
      "cell_type": "code",
      "source": [
        "\n",
        "# coba di data test(unseen)\n",
        "y_true = y_test.flatten()\n",
        "y_predu = model.predict(x_test)\n",
        "\n",
        "# effv2 S\n",
        "acc = accuracy_score(y_true, np.argmax(y_predu,axis=1))\n",
        "\n",
        "print(f\"Test accuracy: {round(acc * 100, 2)}%\")"
      ],
      "metadata": {
        "id": "mLIAIwzn3t1r",
        "colab": {
          "base_uri": "https://localhost:8080/"
        },
        "outputId": "af755e88-1f56-497b-9b45-4d7ee4d5f905"
      },
      "execution_count": null,
      "outputs": [
        {
          "output_type": "stream",
          "name": "stdout",
          "text": [
            "Test accuracy: 89.27%\n"
          ]
        }
      ]
    },
    {
      "cell_type": "markdown",
      "source": [
        "##EfficientNetV2M"
      ],
      "metadata": {
        "id": "YlJE6LQD-w-C"
      }
    },
    {
      "cell_type": "code",
      "source": [
        "\n",
        "data_augmentation = tf.keras.Sequential(\n",
        "    [\n",
        "        #layers.Rescaling(1 / 255.0), # [0, 1] \n",
        "        layers.Resizing(480, 480), # resize image \n",
        "        #layers.RandomCrop(IMAGE_SIZE, IMAGE_SIZE),\n",
        "        #layers.RandomFlip(\"horizontal\"),\n",
        "    ],\n",
        "    name=\"data_augmentation\",\n",
        ")"
      ],
      "metadata": {
        "id": "78n9e1Jv53Ut"
      },
      "execution_count": null,
      "outputs": []
    },
    {
      "cell_type": "code",
      "source": [
        "\n",
        "with strategy.scope():\n",
        "\n",
        "    # /// get model ////\n",
        "    input = layers.Input(shape=(32, 32,3))\n",
        "\n",
        "    # resize image 32 to 480\n",
        "    x = data_augmentation(input)\n",
        "\n",
        "    # num_classes = 0 == include_top = False \n",
        "    # include preprocessing = True, will add rescale and normalization layers \n",
        "    Eff = keras_efficientnet_v2.EfficientNetV2M(input_shape=(480,480,3),num_classes = 0,pretrained=\"imagenet\",include_preprocessing = True)(x)\n",
        "\n",
        "    # add fc      \n",
        "    x1 = layers.GlobalAveragePooling2D()(Eff)\n",
        "    x1 = layers.Dropout(0.1)(x1) \n",
        "    output = layers.Dense(10, activation=\"softmax\")(x1)\n",
        "\n",
        "    model = tf.keras.Model(inputs=input, outputs=output, name=\"EfficientNetV2M\") \n",
        "   \n",
        "\n",
        "    # freeze EfficientNetV2M\n",
        "    for layer in model.layers[2:3]:\n",
        "        layer.trainable = False\n",
        "\n",
        "    #define metrics\n",
        "    METRICS = [tf.keras.metrics.CategoricalAccuracy(name = \"accuracy\"),\n",
        "               tf.keras.metrics.TopKCategoricalAccuracy(5, name= \"top-5-accuracy\")]\n",
        "\n",
        "    #compile model \n",
        "    model.compile(optimizer = ADABELIEF, \n",
        "              loss = \"CategoricalCrossentropy\",\n",
        "              metrics = METRICS)\n",
        "\n",
        "model.summary()"
      ],
      "metadata": {
        "id": "cxlvNx7B_fYm",
        "colab": {
          "base_uri": "https://localhost:8080/"
        },
        "outputId": "003ad9c5-b7da-4a21-8e31-73aa50457bb4"
      },
      "execution_count": null,
      "outputs": [
        {
          "output_type": "stream",
          "name": "stdout",
          "text": [
            "Downloading data from https://github.com/leondgarse/keras_efficientnet_v2/releases/download/effnetv2_pretrained/efficientnetv2-m-imagenet.h5\n",
            "219750400/219746704 [==============================] - 4s 0us/step\n",
            "219758592/219746704 [==============================] - 4s 0us/step\n",
            ">>>> Load pretrained from: /root/.keras/models/efficientnetv2/efficientnetv2-m-imagenet.h5\n",
            "Model: \"EfficientNetV2M\"\n",
            "_________________________________________________________________\n",
            " Layer (type)                Output Shape              Param #   \n",
            "=================================================================\n",
            " input_11 (InputLayer)       [(None, 32, 32, 3)]       0         \n",
            "                                                                 \n",
            " data_augmentation (Sequenti  (None, 480, 480, 3)      0         \n",
            " al)                                                             \n",
            "                                                                 \n",
            " EfficientNetV2M (Functional  (None, 15, 15, 1280)     53150388  \n",
            " )                                                               \n",
            "                                                                 \n",
            " global_average_pooling2d_5   (None, 1280)             0         \n",
            " (GlobalAveragePooling2D)                                        \n",
            "                                                                 \n",
            " dropout_5 (Dropout)         (None, 1280)              0         \n",
            "                                                                 \n",
            " dense_5 (Dense)             (None, 10)                12810     \n",
            "                                                                 \n",
            "=================================================================\n",
            "Total params: 53,163,198\n",
            "Trainable params: 12,810\n",
            "Non-trainable params: 53,150,388\n",
            "_________________________________________________________________\n"
          ]
        }
      ]
    },
    {
      "cell_type": "code",
      "source": [
        "\n",
        "cp_path = f\"best_cp[M].hdf5\"\n",
        "cb_checkpt = tf.keras.callbacks.ModelCheckpoint(cp_path, monitor = 'val_loss', verbose = 0,\n",
        "                                 save_best_only = True,\n",
        "                                 save_weights_only = True,\n",
        "                                 mode = 'min')\n",
        "\n",
        "history = model.fit(train_ds, validation_data=val_ds, \n",
        "                    epochs=EPOCHS, callbacks = [cb_checkpt],verbose=1)\n",
        "\n",
        "model.load_weights(cp_path)"
      ],
      "metadata": {
        "id": "NygT8HogAHhQ",
        "colab": {
          "base_uri": "https://localhost:8080/"
        },
        "outputId": "e4324cc6-36bd-4c49-9d32-2373f5ee4e3a"
      },
      "execution_count": null,
      "outputs": [
        {
          "output_type": "stream",
          "name": "stdout",
          "text": [
            "Epoch 1/25\n",
            "352/352 [==============================] - 219s 440ms/step - loss: 0.5858 - accuracy: 0.8426 - top-5-accuracy: 0.9831 - val_loss: 0.3922 - val_accuracy: 0.8814 - val_top-5-accuracy: 0.9944\n",
            "Epoch 2/25\n",
            "352/352 [==============================] - 65s 184ms/step - loss: 0.3729 - accuracy: 0.8844 - top-5-accuracy: 0.9941 - val_loss: 0.3495 - val_accuracy: 0.8912 - val_top-5-accuracy: 0.9952\n",
            "Epoch 3/25\n",
            "352/352 [==============================] - 65s 186ms/step - loss: 0.3431 - accuracy: 0.8902 - top-5-accuracy: 0.9948 - val_loss: 0.3287 - val_accuracy: 0.8968 - val_top-5-accuracy: 0.9958\n",
            "Epoch 4/25\n",
            "352/352 [==============================] - 65s 186ms/step - loss: 0.3263 - accuracy: 0.8942 - top-5-accuracy: 0.9953 - val_loss: 0.3152 - val_accuracy: 0.8998 - val_top-5-accuracy: 0.9964\n",
            "Epoch 5/25\n",
            "352/352 [==============================] - 64s 181ms/step - loss: 0.3134 - accuracy: 0.8986 - top-5-accuracy: 0.9955 - val_loss: 0.3050 - val_accuracy: 0.9006 - val_top-5-accuracy: 0.9964\n",
            "Epoch 6/25\n",
            "352/352 [==============================] - 62s 176ms/step - loss: 0.3040 - accuracy: 0.9015 - top-5-accuracy: 0.9958 - val_loss: 0.2973 - val_accuracy: 0.9040 - val_top-5-accuracy: 0.9966\n",
            "Epoch 7/25\n",
            "352/352 [==============================] - 62s 177ms/step - loss: 0.2964 - accuracy: 0.9036 - top-5-accuracy: 0.9961 - val_loss: 0.2911 - val_accuracy: 0.9056 - val_top-5-accuracy: 0.9964\n",
            "Epoch 8/25\n",
            "352/352 [==============================] - 61s 172ms/step - loss: 0.2910 - accuracy: 0.9047 - top-5-accuracy: 0.9963 - val_loss: 0.2857 - val_accuracy: 0.9074 - val_top-5-accuracy: 0.9962\n",
            "Epoch 9/25\n",
            "352/352 [==============================] - 60s 171ms/step - loss: 0.2849 - accuracy: 0.9067 - top-5-accuracy: 0.9964 - val_loss: 0.2812 - val_accuracy: 0.9090 - val_top-5-accuracy: 0.9958\n",
            "Epoch 10/25\n",
            "352/352 [==============================] - 62s 176ms/step - loss: 0.2803 - accuracy: 0.9080 - top-5-accuracy: 0.9965 - val_loss: 0.2772 - val_accuracy: 0.9092 - val_top-5-accuracy: 0.9958\n",
            "Epoch 11/25\n",
            "352/352 [==============================] - 61s 172ms/step - loss: 0.2755 - accuracy: 0.9097 - top-5-accuracy: 0.9967 - val_loss: 0.2736 - val_accuracy: 0.9100 - val_top-5-accuracy: 0.9960\n",
            "Epoch 12/25\n",
            "352/352 [==============================] - 62s 175ms/step - loss: 0.2725 - accuracy: 0.9105 - top-5-accuracy: 0.9967 - val_loss: 0.2705 - val_accuracy: 0.9112 - val_top-5-accuracy: 0.9960\n",
            "Epoch 13/25\n",
            "352/352 [==============================] - 61s 173ms/step - loss: 0.2686 - accuracy: 0.9121 - top-5-accuracy: 0.9968 - val_loss: 0.2675 - val_accuracy: 0.9120 - val_top-5-accuracy: 0.9962\n",
            "Epoch 14/25\n",
            "352/352 [==============================] - 61s 173ms/step - loss: 0.2658 - accuracy: 0.9129 - top-5-accuracy: 0.9967 - val_loss: 0.2650 - val_accuracy: 0.9128 - val_top-5-accuracy: 0.9962\n",
            "Epoch 15/25\n",
            "352/352 [==============================] - 60s 172ms/step - loss: 0.2628 - accuracy: 0.9132 - top-5-accuracy: 0.9968 - val_loss: 0.2626 - val_accuracy: 0.9134 - val_top-5-accuracy: 0.9964\n",
            "Epoch 16/25\n",
            "352/352 [==============================] - 61s 174ms/step - loss: 0.2596 - accuracy: 0.9154 - top-5-accuracy: 0.9970 - val_loss: 0.2603 - val_accuracy: 0.9136 - val_top-5-accuracy: 0.9964\n",
            "Epoch 17/25\n",
            "352/352 [==============================] - 61s 172ms/step - loss: 0.2567 - accuracy: 0.9156 - top-5-accuracy: 0.9970 - val_loss: 0.2582 - val_accuracy: 0.9138 - val_top-5-accuracy: 0.9964\n",
            "Epoch 18/25\n",
            "352/352 [==============================] - 61s 173ms/step - loss: 0.2554 - accuracy: 0.9160 - top-5-accuracy: 0.9972 - val_loss: 0.2562 - val_accuracy: 0.9146 - val_top-5-accuracy: 0.9968\n",
            "Epoch 19/25\n",
            "352/352 [==============================] - 61s 173ms/step - loss: 0.2530 - accuracy: 0.9166 - top-5-accuracy: 0.9972 - val_loss: 0.2545 - val_accuracy: 0.9158 - val_top-5-accuracy: 0.9966\n",
            "Epoch 20/25\n",
            "352/352 [==============================] - 62s 175ms/step - loss: 0.2510 - accuracy: 0.9170 - top-5-accuracy: 0.9974 - val_loss: 0.2529 - val_accuracy: 0.9162 - val_top-5-accuracy: 0.9970\n",
            "Epoch 21/25\n",
            "352/352 [==============================] - 61s 173ms/step - loss: 0.2493 - accuracy: 0.9174 - top-5-accuracy: 0.9974 - val_loss: 0.2512 - val_accuracy: 0.9166 - val_top-5-accuracy: 0.9968\n",
            "Epoch 22/25\n",
            "352/352 [==============================] - 60s 171ms/step - loss: 0.2472 - accuracy: 0.9186 - top-5-accuracy: 0.9973 - val_loss: 0.2498 - val_accuracy: 0.9172 - val_top-5-accuracy: 0.9968\n",
            "Epoch 23/25\n",
            "352/352 [==============================] - 61s 174ms/step - loss: 0.2458 - accuracy: 0.9191 - top-5-accuracy: 0.9973 - val_loss: 0.2485 - val_accuracy: 0.9172 - val_top-5-accuracy: 0.9970\n",
            "Epoch 24/25\n",
            "352/352 [==============================] - 60s 171ms/step - loss: 0.2440 - accuracy: 0.9195 - top-5-accuracy: 0.9974 - val_loss: 0.2472 - val_accuracy: 0.9184 - val_top-5-accuracy: 0.9970\n",
            "Epoch 25/25\n",
            "352/352 [==============================] - 60s 170ms/step - loss: 0.2425 - accuracy: 0.9194 - top-5-accuracy: 0.9974 - val_loss: 0.2458 - val_accuracy: 0.9186 - val_top-5-accuracy: 0.9970\n"
          ]
        }
      ]
    },
    {
      "cell_type": "code",
      "source": [
        "\n",
        "loss, accuracy, top_5_accuracy = model.evaluate(val_ds)\n",
        "print(f\"Val loss: {round(loss, 2)}\")\n",
        "print(f\"Val accuracy: {round(accuracy * 100, 2)}%\")\n",
        "print(f\"Val top 5 accuracy: {round(top_5_accuracy * 100, 2)}%\")"
      ],
      "metadata": {
        "id": "ZckFD7yB_zoY",
        "colab": {
          "base_uri": "https://localhost:8080/"
        },
        "outputId": "9251b676-bd3e-4841-d1e4-5d2de4a928ea"
      },
      "execution_count": null,
      "outputs": [
        {
          "output_type": "stream",
          "name": "stdout",
          "text": [
            "40/40 [==============================] - 7s 138ms/step - loss: 0.2458 - accuracy: 0.9186 - top-5-accuracy: 0.9970\n",
            "Val loss: 0.25\n",
            "Val accuracy: 91.86%\n",
            "Val top 5 accuracy: 99.7%\n"
          ]
        }
      ]
    },
    {
      "cell_type": "code",
      "source": [
        "\n",
        "# coba di data test(unseen)\n",
        "y_true = y_test.flatten()\n",
        "y_predu = model.predict(x_test)\n",
        "\n",
        "# effv2 M\n",
        "acc = accuracy_score(y_true, np.argmax(y_predu,axis=1))\n",
        "\n",
        "print(f\"Test accuracy: {round(acc * 100, 2)}%\")"
      ],
      "metadata": {
        "id": "GR6NRis-31dM",
        "colab": {
          "base_uri": "https://localhost:8080/"
        },
        "outputId": "2642298f-7c96-42b3-bf9d-e5ec1f41a7d6"
      },
      "execution_count": null,
      "outputs": [
        {
          "output_type": "stream",
          "name": "stdout",
          "text": [
            "Test accuracy: 90.53%\n"
          ]
        }
      ]
    },
    {
      "cell_type": "markdown",
      "source": [
        "##EfficientNetV2L"
      ],
      "metadata": {
        "id": "Cg8-CTbO_Eas"
      }
    },
    {
      "cell_type": "code",
      "source": [
        "\n",
        "data_augmentation = tf.keras.Sequential(\n",
        "    [\n",
        "        #layers.Rescaling(1 / 255.0), # [0, 1] \n",
        "        layers.Resizing(480, 480), # resize image \n",
        "        #layers.RandomCrop(IMAGE_SIZE, IMAGE_SIZE),\n",
        "        #layers.RandomFlip(\"horizontal\"),\n",
        "    ],\n",
        "    name=\"data_augmentation\",\n",
        ")"
      ],
      "metadata": {
        "id": "ZybJnHFB579c"
      },
      "execution_count": null,
      "outputs": []
    },
    {
      "cell_type": "code",
      "source": [
        "\n",
        "with strategy.scope():\n",
        "\n",
        "    # /// get model ////\n",
        "    input = layers.Input(shape=(32, 32,3))\n",
        "\n",
        "    # resize image 32 to 480\n",
        "    x = data_augmentation(input)\n",
        "\n",
        "    # num_classes = 0 == include_top = False \n",
        "    # include preprocessing = True, will add rescale and normalization layers \n",
        "    Eff = keras_efficientnet_v2.EfficientNetV2L(input_shape=(480,480,3),num_classes = 0,pretrained=\"imagenet\",include_preprocessing = True)(x)\n",
        "\n",
        "    # add fc      \n",
        "    x1 = layers.GlobalAveragePooling2D()(Eff)\n",
        "    x1 = layers.Dropout(0.1)(x1) \n",
        "    output = layers.Dense(10, activation=\"softmax\")(x1)\n",
        "\n",
        "    model = tf.keras.Model(inputs=input, outputs=output, name=\"EfficientNetV2L\") \n",
        "   \n",
        "\n",
        "    # freeze EfficientNetV2L\n",
        "    for layer in model.layers[2:3]:\n",
        "        layer.trainable = False\n",
        "\n",
        "    #define metrics\n",
        "    METRICS = [tf.keras.metrics.CategoricalAccuracy(name = \"accuracy\"),\n",
        "               tf.keras.metrics.TopKCategoricalAccuracy(5, name= \"top-5-accuracy\")]\n",
        "\n",
        "    #compile model \n",
        "    model.compile(optimizer = ADABELIEF, \n",
        "              loss = \"CategoricalCrossentropy\",\n",
        "              metrics = METRICS)\n",
        "\n",
        "model.summary()"
      ],
      "metadata": {
        "id": "yASQhwY3_gid",
        "colab": {
          "base_uri": "https://localhost:8080/"
        },
        "outputId": "1beb0f0c-42b0-40b6-ef8f-a2a371fce70f"
      },
      "execution_count": null,
      "outputs": [
        {
          "output_type": "stream",
          "name": "stdout",
          "text": [
            "Downloading data from https://github.com/leondgarse/keras_efficientnet_v2/releases/download/effnetv2_pretrained/efficientnetv2-l-imagenet.h5\n",
            "478904320/478901992 [==============================] - 25s 0us/step\n",
            "478912512/478901992 [==============================] - 25s 0us/step\n",
            ">>>> Load pretrained from: /root/.keras/models/efficientnetv2/efficientnetv2-l-imagenet.h5\n",
            "Model: \"EfficientNetV2L\"\n",
            "_________________________________________________________________\n",
            " Layer (type)                Output Shape              Param #   \n",
            "=================================================================\n",
            " input_13 (InputLayer)       [(None, 32, 32, 3)]       0         \n",
            "                                                                 \n",
            " data_augmentation (Sequenti  (None, 480, 480, 3)      0         \n",
            " al)                                                             \n",
            "                                                                 \n",
            " EfficientNetV2L (Functional  (None, 15, 15, 1280)     117746848 \n",
            " )                                                               \n",
            "                                                                 \n",
            " global_average_pooling2d_6   (None, 1280)             0         \n",
            " (GlobalAveragePooling2D)                                        \n",
            "                                                                 \n",
            " dropout_6 (Dropout)         (None, 1280)              0         \n",
            "                                                                 \n",
            " dense_6 (Dense)             (None, 10)                12810     \n",
            "                                                                 \n",
            "=================================================================\n",
            "Total params: 117,759,658\n",
            "Trainable params: 12,810\n",
            "Non-trainable params: 117,746,848\n",
            "_________________________________________________________________\n"
          ]
        }
      ]
    },
    {
      "cell_type": "code",
      "source": [
        "\n",
        "cp_path = f\"best_cp[L].hdf5\"\n",
        "cb_checkpt = tf.keras.callbacks.ModelCheckpoint(cp_path, monitor = 'val_loss', verbose = 0,\n",
        "                                 save_best_only = True,\n",
        "                                 save_weights_only = True,\n",
        "                                 mode = 'min')\n",
        "\n",
        "history = model.fit(train_ds, validation_data=val_ds, \n",
        "                    epochs=EPOCHS, callbacks = [cb_checkpt],verbose=1)\n",
        "\n",
        "model.load_weights(cp_path)"
      ],
      "metadata": {
        "id": "UEmRHjSyAInk",
        "colab": {
          "base_uri": "https://localhost:8080/"
        },
        "outputId": "0fb4b61d-c054-4059-a01f-92a4e162f61c"
      },
      "execution_count": null,
      "outputs": [
        {
          "output_type": "stream",
          "name": "stdout",
          "text": [
            "Epoch 1/25\n",
            "352/352 [==============================] - 261s 529ms/step - loss: 0.5698 - accuracy: 0.8604 - top-5-accuracy: 0.9867 - val_loss: 0.3536 - val_accuracy: 0.8980 - val_top-5-accuracy: 0.9966\n",
            "Epoch 2/25\n",
            "352/352 [==============================] - 89s 253ms/step - loss: 0.3402 - accuracy: 0.8970 - top-5-accuracy: 0.9956 - val_loss: 0.3073 - val_accuracy: 0.9038 - val_top-5-accuracy: 0.9970\n",
            "Epoch 3/25\n",
            "352/352 [==============================] - 89s 254ms/step - loss: 0.3090 - accuracy: 0.9041 - top-5-accuracy: 0.9961 - val_loss: 0.2861 - val_accuracy: 0.9072 - val_top-5-accuracy: 0.9978\n",
            "Epoch 4/25\n",
            "352/352 [==============================] - 89s 253ms/step - loss: 0.2910 - accuracy: 0.9086 - top-5-accuracy: 0.9964 - val_loss: 0.2723 - val_accuracy: 0.9108 - val_top-5-accuracy: 0.9980\n",
            "Epoch 5/25\n",
            "352/352 [==============================] - 89s 253ms/step - loss: 0.2791 - accuracy: 0.9106 - top-5-accuracy: 0.9967 - val_loss: 0.2624 - val_accuracy: 0.9126 - val_top-5-accuracy: 0.9982\n",
            "Epoch 6/25\n",
            "352/352 [==============================] - 89s 253ms/step - loss: 0.2703 - accuracy: 0.9140 - top-5-accuracy: 0.9969 - val_loss: 0.2549 - val_accuracy: 0.9160 - val_top-5-accuracy: 0.9984\n",
            "Epoch 7/25\n",
            "352/352 [==============================] - 89s 253ms/step - loss: 0.2629 - accuracy: 0.9151 - top-5-accuracy: 0.9970 - val_loss: 0.2487 - val_accuracy: 0.9176 - val_top-5-accuracy: 0.9984\n",
            "Epoch 8/25\n",
            "352/352 [==============================] - 91s 259ms/step - loss: 0.2569 - accuracy: 0.9172 - top-5-accuracy: 0.9973 - val_loss: 0.2434 - val_accuracy: 0.9194 - val_top-5-accuracy: 0.9982\n",
            "Epoch 9/25\n",
            "352/352 [==============================] - 90s 257ms/step - loss: 0.2523 - accuracy: 0.9186 - top-5-accuracy: 0.9973 - val_loss: 0.2390 - val_accuracy: 0.9198 - val_top-5-accuracy: 0.9982\n",
            "Epoch 10/25\n",
            "352/352 [==============================] - 89s 254ms/step - loss: 0.2478 - accuracy: 0.9197 - top-5-accuracy: 0.9973 - val_loss: 0.2350 - val_accuracy: 0.9212 - val_top-5-accuracy: 0.9982\n",
            "Epoch 11/25\n",
            "352/352 [==============================] - 89s 253ms/step - loss: 0.2432 - accuracy: 0.9200 - top-5-accuracy: 0.9974 - val_loss: 0.2315 - val_accuracy: 0.9234 - val_top-5-accuracy: 0.9982\n",
            "Epoch 12/25\n",
            "352/352 [==============================] - 90s 255ms/step - loss: 0.2395 - accuracy: 0.9226 - top-5-accuracy: 0.9975 - val_loss: 0.2283 - val_accuracy: 0.9240 - val_top-5-accuracy: 0.9982\n",
            "Epoch 13/25\n",
            "352/352 [==============================] - 89s 253ms/step - loss: 0.2364 - accuracy: 0.9235 - top-5-accuracy: 0.9975 - val_loss: 0.2255 - val_accuracy: 0.9238 - val_top-5-accuracy: 0.9982\n",
            "Epoch 14/25\n",
            "352/352 [==============================] - 89s 253ms/step - loss: 0.2332 - accuracy: 0.9229 - top-5-accuracy: 0.9976 - val_loss: 0.2230 - val_accuracy: 0.9248 - val_top-5-accuracy: 0.9982\n",
            "Epoch 15/25\n",
            "352/352 [==============================] - 92s 262ms/step - loss: 0.2300 - accuracy: 0.9253 - top-5-accuracy: 0.9978 - val_loss: 0.2206 - val_accuracy: 0.9256 - val_top-5-accuracy: 0.9980\n",
            "Epoch 16/25\n",
            "352/352 [==============================] - 92s 262ms/step - loss: 0.2278 - accuracy: 0.9258 - top-5-accuracy: 0.9975 - val_loss: 0.2183 - val_accuracy: 0.9262 - val_top-5-accuracy: 0.9980\n",
            "Epoch 17/25\n",
            "352/352 [==============================] - 90s 255ms/step - loss: 0.2247 - accuracy: 0.9266 - top-5-accuracy: 0.9979 - val_loss: 0.2164 - val_accuracy: 0.9276 - val_top-5-accuracy: 0.9980\n",
            "Epoch 18/25\n",
            "352/352 [==============================] - 89s 253ms/step - loss: 0.2228 - accuracy: 0.9268 - top-5-accuracy: 0.9980 - val_loss: 0.2145 - val_accuracy: 0.9284 - val_top-5-accuracy: 0.9980\n",
            "Epoch 19/25\n",
            "352/352 [==============================] - 89s 254ms/step - loss: 0.2214 - accuracy: 0.9270 - top-5-accuracy: 0.9979 - val_loss: 0.2128 - val_accuracy: 0.9284 - val_top-5-accuracy: 0.9980\n",
            "Epoch 20/25\n",
            "352/352 [==============================] - 90s 255ms/step - loss: 0.2190 - accuracy: 0.9284 - top-5-accuracy: 0.9978 - val_loss: 0.2111 - val_accuracy: 0.9296 - val_top-5-accuracy: 0.9978\n",
            "Epoch 21/25\n",
            "352/352 [==============================] - 89s 253ms/step - loss: 0.2169 - accuracy: 0.9284 - top-5-accuracy: 0.9979 - val_loss: 0.2096 - val_accuracy: 0.9296 - val_top-5-accuracy: 0.9978\n",
            "Epoch 22/25\n",
            "352/352 [==============================] - 89s 253ms/step - loss: 0.2156 - accuracy: 0.9289 - top-5-accuracy: 0.9980 - val_loss: 0.2082 - val_accuracy: 0.9300 - val_top-5-accuracy: 0.9978\n",
            "Epoch 23/25\n",
            "352/352 [==============================] - 89s 254ms/step - loss: 0.2137 - accuracy: 0.9294 - top-5-accuracy: 0.9980 - val_loss: 0.2068 - val_accuracy: 0.9310 - val_top-5-accuracy: 0.9980\n",
            "Epoch 24/25\n",
            "352/352 [==============================] - 90s 255ms/step - loss: 0.2125 - accuracy: 0.9301 - top-5-accuracy: 0.9977 - val_loss: 0.2056 - val_accuracy: 0.9314 - val_top-5-accuracy: 0.9980\n",
            "Epoch 25/25\n",
            "352/352 [==============================] - 89s 253ms/step - loss: 0.2113 - accuracy: 0.9310 - top-5-accuracy: 0.9980 - val_loss: 0.2044 - val_accuracy: 0.9314 - val_top-5-accuracy: 0.9980\n"
          ]
        }
      ]
    },
    {
      "cell_type": "code",
      "source": [
        "\n",
        "loss, accuracy, top_5_accuracy = model.evaluate(val_ds)\n",
        "print(f\"Val loss: {round(loss, 2)}\")\n",
        "print(f\"Val accuracy: {round(accuracy * 100, 2)}%\")\n",
        "print(f\"Val top 5 accuracy: {round(top_5_accuracy * 100, 2)}%\")"
      ],
      "metadata": {
        "id": "temTHWmz_1Gb",
        "colab": {
          "base_uri": "https://localhost:8080/"
        },
        "outputId": "ebd50cf4-67d6-497b-8e07-78c59a6ce0e7"
      },
      "execution_count": null,
      "outputs": [
        {
          "output_type": "stream",
          "name": "stdout",
          "text": [
            "40/40 [==============================] - 11s 226ms/step - loss: 0.2045 - accuracy: 0.9310 - top-5-accuracy: 0.9980\n",
            "Val loss: 0.2\n",
            "Val accuracy: 93.1%\n",
            "Val top 5 accuracy: 99.8%\n"
          ]
        }
      ]
    },
    {
      "cell_type": "code",
      "source": [
        "\n",
        "# coba di data test(unseen)\n",
        "y_true = y_test.flatten()\n",
        "y_predu = model.predict(x_test)\n",
        "\n",
        "# effv2 L\n",
        "acc = accuracy_score(y_true, np.argmax(y_predu,axis=1))\n",
        "\n",
        "print(f\"Test accuracy: {round(acc * 100, 2)}%\")"
      ],
      "metadata": {
        "id": "O1OuhsEP36XP",
        "colab": {
          "base_uri": "https://localhost:8080/"
        },
        "outputId": "29758197-d575-4a6c-8195-d688e5859ad5"
      },
      "execution_count": null,
      "outputs": [
        {
          "output_type": "stream",
          "name": "stdout",
          "text": [
            "Test accuracy: 92.38%\n"
          ]
        }
      ]
    },
    {
      "cell_type": "markdown",
      "source": [
        "##EfficientNetV2XL"
      ],
      "metadata": {
        "id": "eEkc35hS_Pc4"
      }
    },
    {
      "cell_type": "code",
      "source": [
        "\n",
        "data_augmentation = tf.keras.Sequential(\n",
        "    [\n",
        "        #layers.Rescaling(1 / 255.0), # [0, 1] \n",
        "        layers.Resizing(512, 512), # resize image \n",
        "        #layers.RandomCrop(IMAGE_SIZE, IMAGE_SIZE),\n",
        "        #layers.RandomFlip(\"horizontal\"),\n",
        "    ],\n",
        "    name=\"data_augmentation\",\n",
        ")"
      ],
      "metadata": {
        "id": "G8wPSGjv5_qG"
      },
      "execution_count": null,
      "outputs": []
    },
    {
      "cell_type": "code",
      "source": [
        "\n",
        "with strategy.scope():\n",
        "\n",
        "    # /// get model ////\n",
        "    input = layers.Input(shape=(32, 32,3))\n",
        "\n",
        "    # resize image 32 to 512\n",
        "    x = data_augmentation(input)\n",
        "\n",
        "    # num_classes = 0 == include_top = False \n",
        "    # include preprocessing = True, will add rescale and normalization layers \n",
        "    Eff = keras_efficientnet_v2.EfficientNetV2XL(input_shape=(512,512,3),num_classes = 0,pretrained=\"imagenet21k-ft1k\",include_preprocessing = True)(x)\n",
        "\n",
        "    # add fc      \n",
        "    x1 = layers.GlobalAveragePooling2D()(Eff)\n",
        "    x1 = layers.Dropout(0.1)(x1) \n",
        "    output = layers.Dense(10, activation=\"softmax\")(x1)\n",
        "\n",
        "    model = tf.keras.Model(inputs=input, outputs=output, name=\"EfficientNetV2XL\") \n",
        "   \n",
        "\n",
        "    # freeze EfficientNetV2XL\n",
        "    for layer in model.layers[2:3]:\n",
        "        layer.trainable = False\n",
        "\n",
        "    #define metrics\n",
        "    METRICS = [tf.keras.metrics.CategoricalAccuracy(name = \"accuracy\"),\n",
        "               tf.keras.metrics.TopKCategoricalAccuracy(5, name= \"top-5-accuracy\")]\n",
        "  \n",
        "    #compile model \n",
        "    model.compile(optimizer = ADABELIEF, \n",
        "              loss = \"CategoricalCrossentropy\",\n",
        "              metrics = METRICS)\n",
        "\n",
        "model.summary()"
      ],
      "metadata": {
        "id": "_TFZiuXf_hoc",
        "colab": {
          "base_uri": "https://localhost:8080/"
        },
        "outputId": "e2917d74-0227-49c4-f9e3-e0bef637ca04"
      },
      "execution_count": null,
      "outputs": [
        {
          "output_type": "stream",
          "name": "stdout",
          "text": [
            "Downloading data from https://github.com/leondgarse/keras_efficientnet_v2/releases/download/effnetv2_pretrained/efficientnetv2-xl-21k-ft1k.h5\n",
            "839163904/839155800 [==============================] - 8s 0us/step\n",
            "839172096/839155800 [==============================] - 8s 0us/step\n",
            ">>>> Load pretrained from: /root/.keras/models/efficientnetv2/efficientnetv2-xl-21k-ft1k.h5\n",
            "Model: \"EfficientNetV2XL\"\n",
            "_________________________________________________________________\n",
            " Layer (type)                Output Shape              Param #   \n",
            "=================================================================\n",
            " input_3 (InputLayer)        [(None, 32, 32, 3)]       0         \n",
            "                                                                 \n",
            " data_augmentation (Sequenti  (None, 512, 512, 3)      0         \n",
            " al)                                                             \n",
            "                                                                 \n",
            " EfficientNetV2XL (Functiona  (None, 16, 16, 1280)     207615832 \n",
            " l)                                                              \n",
            "                                                                 \n",
            " global_average_pooling2d_1   (None, 1280)             0         \n",
            " (GlobalAveragePooling2D)                                        \n",
            "                                                                 \n",
            " dropout_1 (Dropout)         (None, 1280)              0         \n",
            "                                                                 \n",
            " dense_1 (Dense)             (None, 10)                12810     \n",
            "                                                                 \n",
            "=================================================================\n",
            "Total params: 207,628,642\n",
            "Trainable params: 12,810\n",
            "Non-trainable params: 207,615,832\n",
            "_________________________________________________________________\n"
          ]
        }
      ]
    },
    {
      "cell_type": "code",
      "source": [
        "\n",
        "cp_path = f\"best_cp[XL].hdf5\"\n",
        "cb_checkpt = tf.keras.callbacks.ModelCheckpoint(cp_path, monitor = 'val_loss', verbose = 0,\n",
        "                                 save_best_only = True,\n",
        "                                 save_weights_only = True,\n",
        "                                 mode = 'min')\n",
        "\n",
        "history = model.fit(train_ds, validation_data=val_ds, \n",
        "                    epochs=EPOCHS, callbacks = [cb_checkpt],verbose=1)\n",
        "\n",
        "model.load_weights(cp_path)"
      ],
      "metadata": {
        "id": "bLpiPBKQAJ8k",
        "colab": {
          "base_uri": "https://localhost:8080/"
        },
        "outputId": "1f976f7f-897b-4a99-b348-e2c71459b23b"
      },
      "execution_count": null,
      "outputs": [
        {
          "output_type": "stream",
          "name": "stdout",
          "text": [
            "Epoch 1/25\n",
            "WARNING:tensorflow:From /usr/local/lib/python3.7/dist-packages/keras/engine/training.py:2970: StrategyBase.unwrap (from tensorflow.python.distribute.distribute_lib) is deprecated and will be removed in a future version.\n",
            "Instructions for updating:\n",
            "use `experimental_local_results` instead.\n"
          ]
        },
        {
          "output_type": "stream",
          "name": "stderr",
          "text": [
            "WARNING:tensorflow:From /usr/local/lib/python3.7/dist-packages/keras/engine/training.py:2970: StrategyBase.unwrap (from tensorflow.python.distribute.distribute_lib) is deprecated and will be removed in a future version.\n",
            "Instructions for updating:\n",
            "use `experimental_local_results` instead.\n"
          ]
        },
        {
          "output_type": "stream",
          "name": "stdout",
          "text": [
            "352/352 [==============================] - 328s 689ms/step - loss: 0.5289 - accuracy: 0.8416 - top-5-accuracy: 0.9495 - val_loss: 0.3043 - val_accuracy: 0.9326 - val_top-5-accuracy: 0.9972\n",
            "Epoch 2/25\n",
            "352/352 [==============================] - 114s 324ms/step - loss: 0.3933 - accuracy: 0.9438 - top-5-accuracy: 0.9973 - val_loss: 0.7798 - val_accuracy: 0.9268 - val_top-5-accuracy: 0.9976\n",
            "Epoch 3/25\n",
            "352/352 [==============================] - 115s 325ms/step - loss: 0.6033 - accuracy: 0.9535 - top-5-accuracy: 0.9986 - val_loss: 0.5212 - val_accuracy: 0.9618 - val_top-5-accuracy: 0.9986\n",
            "Epoch 4/25\n",
            "352/352 [==============================] - 114s 324ms/step - loss: 0.2845 - accuracy: 0.9719 - top-5-accuracy: 0.9996 - val_loss: 0.3294 - val_accuracy: 0.9684 - val_top-5-accuracy: 0.9990\n",
            "Epoch 5/25\n",
            "352/352 [==============================] - 114s 325ms/step - loss: 0.1876 - accuracy: 0.9774 - top-5-accuracy: 0.9998 - val_loss: 0.4028 - val_accuracy: 0.9644 - val_top-5-accuracy: 0.9988\n",
            "Epoch 6/25\n",
            "352/352 [==============================] - 113s 322ms/step - loss: 0.3770 - accuracy: 0.9634 - top-5-accuracy: 0.9996 - val_loss: 0.6013 - val_accuracy: 0.9584 - val_top-5-accuracy: 0.9988\n",
            "Epoch 7/25\n",
            "352/352 [==============================] - 114s 325ms/step - loss: 0.4414 - accuracy: 0.9652 - top-5-accuracy: 0.9996 - val_loss: 0.4770 - val_accuracy: 0.9650 - val_top-5-accuracy: 0.9988\n",
            "Epoch 8/25\n",
            "352/352 [==============================] - 114s 324ms/step - loss: 0.2125 - accuracy: 0.9781 - top-5-accuracy: 0.9999 - val_loss: 0.4156 - val_accuracy: 0.9664 - val_top-5-accuracy: 0.9992\n",
            "Epoch 9/25\n",
            "352/352 [==============================] - 115s 326ms/step - loss: 0.1508 - accuracy: 0.9815 - top-5-accuracy: 0.9999 - val_loss: 0.4781 - val_accuracy: 0.9604 - val_top-5-accuracy: 0.9990\n",
            "Epoch 10/25\n",
            "352/352 [==============================] - 115s 326ms/step - loss: 0.2092 - accuracy: 0.9753 - top-5-accuracy: 1.0000 - val_loss: 0.6080 - val_accuracy: 0.9572 - val_top-5-accuracy: 0.9992\n",
            "Epoch 11/25\n",
            "352/352 [==============================] - 115s 326ms/step - loss: 0.2409 - accuracy: 0.9743 - top-5-accuracy: 0.9999 - val_loss: 0.5343 - val_accuracy: 0.9592 - val_top-5-accuracy: 0.9994\n",
            "Epoch 12/25\n",
            "352/352 [==============================] - 114s 325ms/step - loss: 0.1403 - accuracy: 0.9826 - top-5-accuracy: 1.0000 - val_loss: 0.4189 - val_accuracy: 0.9678 - val_top-5-accuracy: 0.9992\n",
            "Epoch 13/25\n",
            "352/352 [==============================] - 115s 326ms/step - loss: 0.1046 - accuracy: 0.9848 - top-5-accuracy: 1.0000 - val_loss: 0.4009 - val_accuracy: 0.9658 - val_top-5-accuracy: 0.9992\n",
            "Epoch 14/25\n",
            "352/352 [==============================] - 115s 326ms/step - loss: 0.1497 - accuracy: 0.9798 - top-5-accuracy: 1.0000 - val_loss: 0.4445 - val_accuracy: 0.9672 - val_top-5-accuracy: 0.9992\n",
            "Epoch 15/25\n",
            "352/352 [==============================] - 115s 327ms/step - loss: 0.1390 - accuracy: 0.9806 - top-5-accuracy: 1.0000 - val_loss: 0.4095 - val_accuracy: 0.9650 - val_top-5-accuracy: 0.9994\n",
            "Epoch 16/25\n",
            "352/352 [==============================] - 115s 325ms/step - loss: 0.1041 - accuracy: 0.9845 - top-5-accuracy: 1.0000 - val_loss: 0.3921 - val_accuracy: 0.9678 - val_top-5-accuracy: 0.9992\n",
            "Epoch 17/25\n",
            "352/352 [==============================] - 115s 326ms/step - loss: 0.0805 - accuracy: 0.9860 - top-5-accuracy: 1.0000 - val_loss: 0.3893 - val_accuracy: 0.9676 - val_top-5-accuracy: 0.9992\n",
            "Epoch 18/25\n",
            "352/352 [==============================] - 115s 327ms/step - loss: 0.0995 - accuracy: 0.9841 - top-5-accuracy: 1.0000 - val_loss: 0.4396 - val_accuracy: 0.9622 - val_top-5-accuracy: 0.9992\n",
            "Epoch 19/25\n",
            "352/352 [==============================] - 115s 327ms/step - loss: 0.1020 - accuracy: 0.9827 - top-5-accuracy: 1.0000 - val_loss: 0.3925 - val_accuracy: 0.9670 - val_top-5-accuracy: 0.9994\n",
            "Epoch 20/25\n",
            "352/352 [==============================] - 115s 326ms/step - loss: 0.0724 - accuracy: 0.9867 - top-5-accuracy: 1.0000 - val_loss: 0.3912 - val_accuracy: 0.9680 - val_top-5-accuracy: 0.9992\n",
            "Epoch 21/25\n",
            "352/352 [==============================] - 115s 327ms/step - loss: 0.0745 - accuracy: 0.9869 - top-5-accuracy: 1.0000 - val_loss: 0.3884 - val_accuracy: 0.9656 - val_top-5-accuracy: 0.9992\n",
            "Epoch 22/25\n",
            "352/352 [==============================] - 115s 326ms/step - loss: 0.0762 - accuracy: 0.9859 - top-5-accuracy: 1.0000 - val_loss: 0.3903 - val_accuracy: 0.9660 - val_top-5-accuracy: 0.9994\n",
            "Epoch 23/25\n",
            "352/352 [==============================] - 114s 325ms/step - loss: 0.0753 - accuracy: 0.9860 - top-5-accuracy: 1.0000 - val_loss: 0.3899 - val_accuracy: 0.9676 - val_top-5-accuracy: 0.9992\n",
            "Epoch 24/25\n",
            "352/352 [==============================] - 113s 322ms/step - loss: 0.0666 - accuracy: 0.9870 - top-5-accuracy: 1.0000 - val_loss: 0.3790 - val_accuracy: 0.9674 - val_top-5-accuracy: 0.9994\n",
            "Epoch 25/25\n",
            "352/352 [==============================] - 115s 326ms/step - loss: 0.0649 - accuracy: 0.9867 - top-5-accuracy: 1.0000 - val_loss: 0.3845 - val_accuracy: 0.9672 - val_top-5-accuracy: 0.9994\n"
          ]
        }
      ]
    },
    {
      "cell_type": "code",
      "source": [
        "\n",
        "loss, accuracy, top_5_accuracy = model.evaluate(val_ds)\n",
        "print(f\"Val loss: {round(loss, 2)}\")\n",
        "print(f\"Val accuracy: {round(accuracy * 100, 2)}%\")\n",
        "print(f\"Val top 5 accuracy: {round(top_5_accuracy * 100, 2)}%\")"
      ],
      "metadata": {
        "id": "suefaU4v_2I0",
        "colab": {
          "base_uri": "https://localhost:8080/"
        },
        "outputId": "c0c3d68f-5677-44a1-e4c7-26e5d29e9e93"
      },
      "execution_count": null,
      "outputs": [
        {
          "output_type": "stream",
          "name": "stdout",
          "text": [
            "40/40 [==============================] - 13s 283ms/step - loss: 0.3043 - accuracy: 0.9324 - top-5-accuracy: 0.9972\n",
            "Val loss: 0.3\n",
            "Val accuracy: 93.24%\n",
            "Val top 5 accuracy: 99.72%\n"
          ]
        }
      ]
    },
    {
      "cell_type": "code",
      "source": [
        "\n",
        "# coba di data test(unseen)\n",
        "y_true = y_test.flatten()\n",
        "y_predu = model.predict(x_test)\n",
        "\n",
        "# effv2 XL\n",
        "acc = accuracy_score(y_true, np.argmax(y_predu,axis=1))\n",
        "\n",
        "print(f\"Test accuracy: {round(acc * 100, 2)}%\")"
      ],
      "metadata": {
        "id": "LzsoCihk4Azu",
        "colab": {
          "base_uri": "https://localhost:8080/"
        },
        "outputId": "bdb66873-7e06-4ecc-a6ac-2a778664ff74"
      },
      "execution_count": null,
      "outputs": [
        {
          "output_type": "stream",
          "name": "stdout",
          "text": [
            "Test accuracy: 93.41%\n"
          ]
        }
      ]
    }
  ]
}